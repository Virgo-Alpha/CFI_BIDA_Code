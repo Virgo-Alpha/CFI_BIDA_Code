{
 "cells": [
  {
   "cell_type": "markdown",
   "metadata": {
    "id": "DhABxXGGG41q"
   },
   "source": [
    "# Value at Risk Assessment Model"
   ]
  },
  {
   "cell_type": "markdown",
   "metadata": {
    "id": "2RPdfXEEG41t"
   },
   "source": [
    "### Import Packages"
   ]
  },
  {
   "cell_type": "code",
   "execution_count": 1,
   "metadata": {
    "id": "vfRHja5xG41u"
   },
   "outputs": [],
   "source": [
    "# Import packages\n",
    "import numpy as np\n",
    "import pandas as pd\n",
    "import matplotlib.pyplot as plt\n",
    "import yfinance as yf"
   ]
  },
  {
   "cell_type": "markdown",
   "metadata": {
    "id": "d5W6RwdIG41v"
   },
   "source": [
    "### Distributions - Set Up Stock Parameters"
   ]
  },
  {
   "cell_type": "code",
   "execution_count": 2,
   "metadata": {
    "id": "S4lUCx5nG41v"
   },
   "outputs": [
    {
     "name": "stdout",
     "output_type": "stream",
     "text": [
      "yfinance.Ticker object <MSFT>\n",
      "---------\n",
      "235.11000061035156\n"
     ]
    }
   ],
   "source": [
    "# Number of shares\n",
    "shares_MSFT = 1000\n",
    "\n",
    "# Live stock price\n",
    "price = yf.Ticker('MSFT')\n",
    "price_MSFT = price.history().tail(1)['Close'].iloc[0]\n",
    "\n",
    "print(price)\n",
    "print('---------')\n",
    "print(price_MSFT)"
   ]
  },
  {
   "cell_type": "markdown",
   "metadata": {
    "id": "TnYmv1i5G41v"
   },
   "source": [
    "30-day Historical volatility source: https://www.alphaquery.com/stock/MSFT/volatility-option-statistics/30-day/historical-volatility"
   ]
  },
  {
   "cell_type": "code",
   "execution_count": 3,
   "metadata": {
    "id": "76xj8cmqG41v"
   },
   "outputs": [],
   "source": [
    "# Investment value\n",
    "value_MSFT = price_MSFT * shares_MSFT\n",
    "\n",
    "# Risk free rate (4 week treasury bill rate)\n",
    "rfr_MSFT = 0.02 \n",
    "\n",
    "# Volatility (30-day volatility at that time)\n",
    "vol_MSFT = 0.2116"
   ]
  },
  {
   "cell_type": "markdown",
   "metadata": {
    "id": "0RRGdvW5G41w"
   },
   "source": [
    "### Simulations - Calculate Investment Returns"
   ]
  },
  {
   "cell_type": "code",
   "execution_count": 4,
   "metadata": {
    "id": "EhL5ICKPG41w"
   },
   "outputs": [],
   "source": [
    "# Number of simulations\n",
    "simulations = 5000 \n",
    "\n",
    "# Investment time in a year\n",
    "t_MSFT = 21/252 "
   ]
  },
  {
   "cell_type": "code",
   "execution_count": 5,
   "metadata": {
    "id": "Ta7hVoQ7G41w"
   },
   "outputs": [
    {
     "data": {
      "text/plain": [
       "(array([  1.,   0.,   1.,   0.,   1.,   1.,   3.,   2.,   1.,   2.,   3.,\n",
       "          0.,   5.,   4.,   5.,   3.,   8.,   3.,  10.,  11.,  12.,  18.,\n",
       "         16.,  20.,  24.,  22.,  26.,  47.,  38.,  48.,  61.,  59.,  56.,\n",
       "         78.,  60.,  86.,  91.,  89., 101., 109., 115., 119., 108., 121.,\n",
       "        142., 146., 145., 116., 143., 132., 144., 132., 157., 148., 133.,\n",
       "        148., 144., 112., 121., 110., 127., 116., 112.,  85.,  97.,  67.,\n",
       "         69.,  62.,  63.,  48.,  44.,  50.,  54.,  28.,  31.,  21.,  24.,\n",
       "         19.,  15.,  18.,  15.,   8.,   9.,   6.,   7.,  18.,   7.,   4.,\n",
       "          2.,   0.,   1.,   2.,   0.,   0.,   3.,   2.,   2.,   0.,   2.,\n",
       "          1.]),\n",
       " array([-3.68605388, -3.61351803, -3.54098218, -3.46844632, -3.39591047,\n",
       "        -3.32337462, -3.25083877, -3.17830292, -3.10576707, -3.03323122,\n",
       "        -2.96069537, -2.88815952, -2.81562367, -2.74308782, -2.67055197,\n",
       "        -2.59801612, -2.52548027, -2.45294442, -2.38040857, -2.30787272,\n",
       "        -2.23533686, -2.16280101, -2.09026516, -2.01772931, -1.94519346,\n",
       "        -1.87265761, -1.80012176, -1.72758591, -1.65505006, -1.58251421,\n",
       "        -1.50997836, -1.43744251, -1.36490666, -1.29237081, -1.21983496,\n",
       "        -1.14729911, -1.07476326, -1.0022274 , -0.92969155, -0.8571557 ,\n",
       "        -0.78461985, -0.712084  , -0.63954815, -0.5670123 , -0.49447645,\n",
       "        -0.4219406 , -0.34940475, -0.2768689 , -0.20433305, -0.1317972 ,\n",
       "        -0.05926135,  0.0132745 ,  0.08581035,  0.1583462 ,  0.23088206,\n",
       "         0.30341791,  0.37595376,  0.44848961,  0.52102546,  0.59356131,\n",
       "         0.66609716,  0.73863301,  0.81116886,  0.88370471,  0.95624056,\n",
       "         1.02877641,  1.10131226,  1.17384811,  1.24638396,  1.31891981,\n",
       "         1.39145566,  1.46399152,  1.53652737,  1.60906322,  1.68159907,\n",
       "         1.75413492,  1.82667077,  1.89920662,  1.97174247,  2.04427832,\n",
       "         2.11681417,  2.18935002,  2.26188587,  2.33442172,  2.40695757,\n",
       "         2.47949342,  2.55202927,  2.62456512,  2.69710097,  2.76963683,\n",
       "         2.84217268,  2.91470853,  2.98724438,  3.05978023,  3.13231608,\n",
       "         3.20485193,  3.27738778,  3.34992363,  3.42245948,  3.49499533,\n",
       "         3.56753118]),\n",
       " <BarContainer object of 100 artists>)"
      ]
     },
     "execution_count": 5,
     "metadata": {},
     "output_type": "execute_result"
    },
    {
     "data": {
      "image/png": "[encoded data removed]",
      "text/plain": [
       "<Figure size 432x288 with 1 Axes>"
      ]
     },
     "metadata": {
      "needs_background": "light"
     },
     "output_type": "display_data"
    }
   ],
   "source": [
    "# Explain np.random.standard_normal\n",
    "sample = np.random.standard_normal(5000)\n",
    "plt.hist(sample,bins=100)"
   ]
  },
  {
   "cell_type": "code",
   "execution_count": 6,
   "metadata": {},
   "outputs": [
    {
     "name": "stdout",
     "output_type": "stream",
     "text": [
      "-0.022073810341534477\n",
      "1.0021428262538952\n"
     ]
    }
   ],
   "source": [
    "print(np.mean(sample))\n",
    "print(np.std(sample))"
   ]
  },
  {
   "cell_type": "code",
   "execution_count": 7,
   "metadata": {
    "id": "0_f89juWG41x"
   },
   "outputs": [],
   "source": [
    "# Create a function to calculate the returns of the investment\n",
    "def VaR(pv, rfr, vol, t, simulations):\n",
    "    end_value = pv * np.exp((rfr - .5 * vol ** 2) * t + np.random.standard_normal(\n",
    "        simulations) * vol * np.sqrt(t))\n",
    "    returns = end_value - pv\n",
    "    return returns\n",
    "\n",
    "# Apply the VaR function to simulate the returns\n",
    "returns_MSFT = VaR(value_MSFT, rfr_MSFT, vol_MSFT, t_MSFT, simulations)"
   ]
  },
  {
   "cell_type": "markdown",
   "metadata": {
    "id": "v8wA9yxHG41x"
   },
   "source": [
    "### Quantifications - Identify VaR at 90%, 95%, and 99% Confidence Level"
   ]
  },
  {
   "cell_type": "code",
   "execution_count": 8,
   "metadata": {
    "id": "6-QygAyMG41x"
   },
   "outputs": [
    {
     "name": "stdout",
     "output_type": "stream",
     "text": [
      "VaR at 90% confidence level: $3,455\n"
     ]
    }
   ],
   "source": [
    "# Explain string formatting\n",
    "# Print: VaR at x% confidence level: $y.\n",
    "\n",
    "x = 0.9\n",
    "y = 3455.248\n",
    "print(\"VaR at {:.0%} confidence level: ${:,.0f}\".format(x, y))"
   ]
  },
  {
   "cell_type": "code",
   "execution_count": 9,
   "metadata": {
    "id": "KxCc8t0yG41x"
   },
   "outputs": [
    {
     "name": "stdout",
     "output_type": "stream",
     "text": [
      "VaR at 90% confidence level: $-17,190\n",
      "VaR at 95% confidence level: $-22,375\n",
      "VaR at 99% confidence level: $-32,470\n"
     ]
    },
    {
     "data": {
      "image/png": "[encoded data removed]",
      "text/plain": [
       "<Figure size 432x288 with 1 Axes>"
      ]
     },
     "metadata": {
      "needs_background": "light"
     },
     "output_type": "display_data"
    }
   ],
   "source": [
    "# Plot the returns\n",
    "plt.hist(returns_MSFT, bins=100);\n",
    "\n",
    "# Show VaR at 90%, 95%, and 99% confidence level\n",
    "percentiles = [10,5,1]\n",
    "\n",
    "for i in percentiles:\n",
    "    confidence = (100-i)/100\n",
    "    value = np.percentile(returns_MSFT, i)\n",
    "    print(\"VaR at {:.0%} confidence level: ${:,.0f}\".format(confidence, value))\n",
    "    plt.axvline(value, color = 'red', linestyle='dashed', linewidth=1)"
   ]
  }
 ],
 "metadata": {
  "colab": {
   "name": "03-Value at Risk Assessment-Blank.ipynb",
   "provenance": []
  },
  "kernelspec": {
   "display_name": "Python 3 (ipykernel)",
   "language": "python",
   "name": "python3"
  },
  "language_info": {
   "codemirror_mode": {
    "name": "ipython",
    "version": 3
   },
   "file_extension": ".py",
   "mimetype": "text/x-python",
   "name": "python",
   "nbconvert_exporter": "python",
   "pygments_lexer": "ipython3",
   "version": "3.9.12"
  }
 },
 "nbformat": 4,
 "nbformat_minor": 1
}
