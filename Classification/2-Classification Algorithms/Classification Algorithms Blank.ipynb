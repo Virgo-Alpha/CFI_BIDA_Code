{
 "cells": [
  {
   "cell_type": "markdown",
   "id": "e6bb4534",
   "metadata": {},
   "source": [
    "# Classification Algorithms - Attrition Prediction Student Notebook\n",
    "\n",
    "In this exercise we will work on the subset of the the synthetic [IBM HR Employees Attrition dataset](https://www.kaggle.com/janiobachmann/attrition-in-an-organization-why-workers-quit/data?select=WA_Fn-UseC_-HR-Employee-Attrition.csv).                                                                                                       \n",
    "\n",
    "The dataset gives information about the employees in the organization and the target variable (Y) is Attrition, which tells whether an employee was replaced or not.  We will look at the variables and different factors that affect employee performance, including factors like work from home sitaution, job role, monthly income etc.\n",
    "# Importing the libraries and datasets"
   ]
  },
  {
   "cell_type": "markdown",
   "id": "46a44729",
   "metadata": {},
   "source": [
    "First we should import the required libraries and the dataset"
   ]
  },
  {
   "cell_type": "code",
   "execution_count": 25,
   "id": "848622db",
   "metadata": {},
   "outputs": [],
   "source": [
    "#Basics\n",
    "import pandas as pd\n",
    "import numpy as np\n",
    "\n",
    "#Visualization\n",
    "import matplotlib.pyplot as plt\n",
    "import seaborn as sns\n",
    "\n",
    "#SkLearn ML General\n",
    "from sklearn import preprocessing\n",
    "from sklearn.model_selection import train_test_split\n",
    "from sklearn.metrics import plot_confusion_matrix\n",
    "from sklearn import metrics\n",
    "\n",
    "#SkLearn ML Algorithms\n",
    "from sklearn.naive_bayes import GaussianNB\n",
    "from sklearn.neighbors import KNeighborsClassifier\n",
    "from sklearn.tree import DecisionTreeClassifier\n",
    "from sklearn.ensemble import RandomForestClassifier\n",
    "from sklearn.svm import SVC\n",
    "from sklearn import svm\n"
   ]
  },
  {
   "cell_type": "markdown",
   "id": "9b75adf4",
   "metadata": {},
   "source": [
    "The original dataset contains around 35 feature variables. We will be using a subset of that and use 14 features in this exercise."
   ]
  },
  {
   "cell_type": "code",
   "execution_count": 26,
   "id": "30d4b471",
   "metadata": {},
   "outputs": [
    {
     "data": {
      "text/html": [
       "<div>\n",
       "<style scoped>\n",
       "    .dataframe tbody tr th:only-of-type {\n",
       "        vertical-align: middle;\n",
       "    }\n",
       "\n",
       "    .dataframe tbody tr th {\n",
       "        vertical-align: top;\n",
       "    }\n",
       "\n",
       "    .dataframe thead th {\n",
       "        text-align: right;\n",
       "    }\n",
       "</style>\n",
       "<table border=\"1\" class=\"dataframe\">\n",
       "  <thead>\n",
       "    <tr style=\"text-align: right;\">\n",
       "      <th></th>\n",
       "      <th>Attrition</th>\n",
       "      <th>Age</th>\n",
       "      <th>BusinessTravel</th>\n",
       "      <th>DistanceFromHome</th>\n",
       "      <th>JobSatisfaction</th>\n",
       "      <th>MaritalStatus</th>\n",
       "      <th>MonthlyIncome</th>\n",
       "      <th>OverTime</th>\n",
       "      <th>StockOptionLevel</th>\n",
       "      <th>TotalWorkingYears</th>\n",
       "      <th>WorkLifeBalance</th>\n",
       "      <th>YearsAtCompany</th>\n",
       "      <th>YearsInCurrentRole</th>\n",
       "      <th>YearsSinceLastPromotion</th>\n",
       "    </tr>\n",
       "  </thead>\n",
       "  <tbody>\n",
       "    <tr>\n",
       "      <th>0</th>\n",
       "      <td>1</td>\n",
       "      <td>41</td>\n",
       "      <td>2</td>\n",
       "      <td>1</td>\n",
       "      <td>4</td>\n",
       "      <td>2</td>\n",
       "      <td>5993</td>\n",
       "      <td>1</td>\n",
       "      <td>0</td>\n",
       "      <td>8</td>\n",
       "      <td>1</td>\n",
       "      <td>6</td>\n",
       "      <td>4</td>\n",
       "      <td>0</td>\n",
       "    </tr>\n",
       "    <tr>\n",
       "      <th>1</th>\n",
       "      <td>0</td>\n",
       "      <td>49</td>\n",
       "      <td>1</td>\n",
       "      <td>8</td>\n",
       "      <td>2</td>\n",
       "      <td>1</td>\n",
       "      <td>5130</td>\n",
       "      <td>0</td>\n",
       "      <td>1</td>\n",
       "      <td>10</td>\n",
       "      <td>3</td>\n",
       "      <td>10</td>\n",
       "      <td>7</td>\n",
       "      <td>1</td>\n",
       "    </tr>\n",
       "    <tr>\n",
       "      <th>2</th>\n",
       "      <td>1</td>\n",
       "      <td>37</td>\n",
       "      <td>2</td>\n",
       "      <td>2</td>\n",
       "      <td>3</td>\n",
       "      <td>2</td>\n",
       "      <td>2090</td>\n",
       "      <td>1</td>\n",
       "      <td>0</td>\n",
       "      <td>7</td>\n",
       "      <td>3</td>\n",
       "      <td>0</td>\n",
       "      <td>0</td>\n",
       "      <td>0</td>\n",
       "    </tr>\n",
       "    <tr>\n",
       "      <th>3</th>\n",
       "      <td>0</td>\n",
       "      <td>33</td>\n",
       "      <td>1</td>\n",
       "      <td>3</td>\n",
       "      <td>3</td>\n",
       "      <td>1</td>\n",
       "      <td>2909</td>\n",
       "      <td>1</td>\n",
       "      <td>0</td>\n",
       "      <td>8</td>\n",
       "      <td>3</td>\n",
       "      <td>8</td>\n",
       "      <td>7</td>\n",
       "      <td>3</td>\n",
       "    </tr>\n",
       "    <tr>\n",
       "      <th>4</th>\n",
       "      <td>0</td>\n",
       "      <td>27</td>\n",
       "      <td>2</td>\n",
       "      <td>2</td>\n",
       "      <td>2</td>\n",
       "      <td>1</td>\n",
       "      <td>3468</td>\n",
       "      <td>0</td>\n",
       "      <td>1</td>\n",
       "      <td>6</td>\n",
       "      <td>3</td>\n",
       "      <td>2</td>\n",
       "      <td>2</td>\n",
       "      <td>2</td>\n",
       "    </tr>\n",
       "    <tr>\n",
       "      <th>...</th>\n",
       "      <td>...</td>\n",
       "      <td>...</td>\n",
       "      <td>...</td>\n",
       "      <td>...</td>\n",
       "      <td>...</td>\n",
       "      <td>...</td>\n",
       "      <td>...</td>\n",
       "      <td>...</td>\n",
       "      <td>...</td>\n",
       "      <td>...</td>\n",
       "      <td>...</td>\n",
       "      <td>...</td>\n",
       "      <td>...</td>\n",
       "      <td>...</td>\n",
       "    </tr>\n",
       "    <tr>\n",
       "      <th>1465</th>\n",
       "      <td>0</td>\n",
       "      <td>36</td>\n",
       "      <td>1</td>\n",
       "      <td>23</td>\n",
       "      <td>4</td>\n",
       "      <td>1</td>\n",
       "      <td>2571</td>\n",
       "      <td>0</td>\n",
       "      <td>1</td>\n",
       "      <td>17</td>\n",
       "      <td>3</td>\n",
       "      <td>5</td>\n",
       "      <td>2</td>\n",
       "      <td>0</td>\n",
       "    </tr>\n",
       "    <tr>\n",
       "      <th>1466</th>\n",
       "      <td>0</td>\n",
       "      <td>39</td>\n",
       "      <td>2</td>\n",
       "      <td>6</td>\n",
       "      <td>1</td>\n",
       "      <td>1</td>\n",
       "      <td>9991</td>\n",
       "      <td>0</td>\n",
       "      <td>1</td>\n",
       "      <td>9</td>\n",
       "      <td>3</td>\n",
       "      <td>7</td>\n",
       "      <td>7</td>\n",
       "      <td>1</td>\n",
       "    </tr>\n",
       "    <tr>\n",
       "      <th>1467</th>\n",
       "      <td>0</td>\n",
       "      <td>27</td>\n",
       "      <td>2</td>\n",
       "      <td>4</td>\n",
       "      <td>2</td>\n",
       "      <td>1</td>\n",
       "      <td>6142</td>\n",
       "      <td>1</td>\n",
       "      <td>1</td>\n",
       "      <td>6</td>\n",
       "      <td>3</td>\n",
       "      <td>6</td>\n",
       "      <td>2</td>\n",
       "      <td>0</td>\n",
       "    </tr>\n",
       "    <tr>\n",
       "      <th>1468</th>\n",
       "      <td>0</td>\n",
       "      <td>49</td>\n",
       "      <td>1</td>\n",
       "      <td>2</td>\n",
       "      <td>2</td>\n",
       "      <td>1</td>\n",
       "      <td>5390</td>\n",
       "      <td>0</td>\n",
       "      <td>0</td>\n",
       "      <td>17</td>\n",
       "      <td>2</td>\n",
       "      <td>9</td>\n",
       "      <td>6</td>\n",
       "      <td>0</td>\n",
       "    </tr>\n",
       "    <tr>\n",
       "      <th>1469</th>\n",
       "      <td>0</td>\n",
       "      <td>34</td>\n",
       "      <td>2</td>\n",
       "      <td>8</td>\n",
       "      <td>3</td>\n",
       "      <td>1</td>\n",
       "      <td>4404</td>\n",
       "      <td>0</td>\n",
       "      <td>0</td>\n",
       "      <td>6</td>\n",
       "      <td>4</td>\n",
       "      <td>4</td>\n",
       "      <td>3</td>\n",
       "      <td>1</td>\n",
       "    </tr>\n",
       "  </tbody>\n",
       "</table>\n",
       "<p>1470 rows × 14 columns</p>\n",
       "</div>"
      ],
      "text/plain": [
       "      Attrition  Age  BusinessTravel  DistanceFromHome  JobSatisfaction  \\\n",
       "0             1   41               2                 1                4   \n",
       "1             0   49               1                 8                2   \n",
       "2             1   37               2                 2                3   \n",
       "3             0   33               1                 3                3   \n",
       "4             0   27               2                 2                2   \n",
       "...         ...  ...             ...               ...              ...   \n",
       "1465          0   36               1                23                4   \n",
       "1466          0   39               2                 6                1   \n",
       "1467          0   27               2                 4                2   \n",
       "1468          0   49               1                 2                2   \n",
       "1469          0   34               2                 8                3   \n",
       "\n",
       "      MaritalStatus  MonthlyIncome  OverTime  StockOptionLevel  \\\n",
       "0                 2           5993         1                 0   \n",
       "1                 1           5130         0                 1   \n",
       "2                 2           2090         1                 0   \n",
       "3                 1           2909         1                 0   \n",
       "4                 1           3468         0                 1   \n",
       "...             ...            ...       ...               ...   \n",
       "1465              1           2571         0                 1   \n",
       "1466              1           9991         0                 1   \n",
       "1467              1           6142         1                 1   \n",
       "1468              1           5390         0                 0   \n",
       "1469              1           4404         0                 0   \n",
       "\n",
       "      TotalWorkingYears  WorkLifeBalance  YearsAtCompany  YearsInCurrentRole  \\\n",
       "0                     8                1               6                   4   \n",
       "1                    10                3              10                   7   \n",
       "2                     7                3               0                   0   \n",
       "3                     8                3               8                   7   \n",
       "4                     6                3               2                   2   \n",
       "...                 ...              ...             ...                 ...   \n",
       "1465                 17                3               5                   2   \n",
       "1466                  9                3               7                   7   \n",
       "1467                  6                3               6                   2   \n",
       "1468                 17                2               9                   6   \n",
       "1469                  6                4               4                   3   \n",
       "\n",
       "      YearsSinceLastPromotion  \n",
       "0                           0  \n",
       "1                           1  \n",
       "2                           0  \n",
       "3                           3  \n",
       "4                           2  \n",
       "...                       ...  \n",
       "1465                        0  \n",
       "1466                        1  \n",
       "1467                        0  \n",
       "1468                        0  \n",
       "1469                        1  \n",
       "\n",
       "[1470 rows x 14 columns]"
      ]
     },
     "execution_count": 26,
     "metadata": {},
     "output_type": "execute_result"
    }
   ],
   "source": [
    "#Import Data Subset from HREmployeeData.csv\n",
    "employee_data = pd.read_csv('HREmployeeData.csv')\n",
    "employee_data"
   ]
  },
  {
   "cell_type": "markdown",
   "id": "cbbc308a",
   "metadata": {},
   "source": [
    "# Data Exploration\n",
    "\n",
    "We want to have a quick study of our dataset before we dive into the data analytics part. "
   ]
  },
  {
   "cell_type": "code",
   "execution_count": 27,
   "id": "e966111e",
   "metadata": {
    "scrolled": false
   },
   "outputs": [
    {
     "data": {
      "text/html": [
       "<div>\n",
       "<style scoped>\n",
       "    .dataframe tbody tr th:only-of-type {\n",
       "        vertical-align: middle;\n",
       "    }\n",
       "\n",
       "    .dataframe tbody tr th {\n",
       "        vertical-align: top;\n",
       "    }\n",
       "\n",
       "    .dataframe thead th {\n",
       "        text-align: right;\n",
       "    }\n",
       "</style>\n",
       "<table border=\"1\" class=\"dataframe\">\n",
       "  <thead>\n",
       "    <tr style=\"text-align: right;\">\n",
       "      <th></th>\n",
       "      <th>Attrition</th>\n",
       "      <th>Age</th>\n",
       "      <th>BusinessTravel</th>\n",
       "      <th>DistanceFromHome</th>\n",
       "      <th>JobSatisfaction</th>\n",
       "      <th>MaritalStatus</th>\n",
       "      <th>MonthlyIncome</th>\n",
       "      <th>OverTime</th>\n",
       "      <th>StockOptionLevel</th>\n",
       "      <th>TotalWorkingYears</th>\n",
       "      <th>WorkLifeBalance</th>\n",
       "      <th>YearsAtCompany</th>\n",
       "      <th>YearsInCurrentRole</th>\n",
       "      <th>YearsSinceLastPromotion</th>\n",
       "    </tr>\n",
       "  </thead>\n",
       "  <tbody>\n",
       "    <tr>\n",
       "      <th>count</th>\n",
       "      <td>1470.000000</td>\n",
       "      <td>1470.000000</td>\n",
       "      <td>1470.000000</td>\n",
       "      <td>1470.000000</td>\n",
       "      <td>1470.000000</td>\n",
       "      <td>1470.000000</td>\n",
       "      <td>1470.000000</td>\n",
       "      <td>1470.000000</td>\n",
       "      <td>1470.000000</td>\n",
       "      <td>1470.000000</td>\n",
       "      <td>1470.000000</td>\n",
       "      <td>1470.000000</td>\n",
       "      <td>1470.000000</td>\n",
       "      <td>1470.000000</td>\n",
       "    </tr>\n",
       "    <tr>\n",
       "      <th>mean</th>\n",
       "      <td>0.161224</td>\n",
       "      <td>36.923810</td>\n",
       "      <td>1.607483</td>\n",
       "      <td>9.192517</td>\n",
       "      <td>2.728571</td>\n",
       "      <td>1.097279</td>\n",
       "      <td>6502.931293</td>\n",
       "      <td>0.282993</td>\n",
       "      <td>0.793878</td>\n",
       "      <td>11.279592</td>\n",
       "      <td>2.761224</td>\n",
       "      <td>7.008163</td>\n",
       "      <td>4.229252</td>\n",
       "      <td>2.187755</td>\n",
       "    </tr>\n",
       "    <tr>\n",
       "      <th>std</th>\n",
       "      <td>0.367863</td>\n",
       "      <td>9.135373</td>\n",
       "      <td>0.665455</td>\n",
       "      <td>8.106864</td>\n",
       "      <td>1.102846</td>\n",
       "      <td>0.730121</td>\n",
       "      <td>4707.956783</td>\n",
       "      <td>0.450606</td>\n",
       "      <td>0.852077</td>\n",
       "      <td>7.780782</td>\n",
       "      <td>0.706476</td>\n",
       "      <td>6.126525</td>\n",
       "      <td>3.623137</td>\n",
       "      <td>3.222430</td>\n",
       "    </tr>\n",
       "    <tr>\n",
       "      <th>min</th>\n",
       "      <td>0.000000</td>\n",
       "      <td>18.000000</td>\n",
       "      <td>0.000000</td>\n",
       "      <td>1.000000</td>\n",
       "      <td>1.000000</td>\n",
       "      <td>0.000000</td>\n",
       "      <td>1009.000000</td>\n",
       "      <td>0.000000</td>\n",
       "      <td>0.000000</td>\n",
       "      <td>0.000000</td>\n",
       "      <td>1.000000</td>\n",
       "      <td>0.000000</td>\n",
       "      <td>0.000000</td>\n",
       "      <td>0.000000</td>\n",
       "    </tr>\n",
       "    <tr>\n",
       "      <th>25%</th>\n",
       "      <td>0.000000</td>\n",
       "      <td>30.000000</td>\n",
       "      <td>1.000000</td>\n",
       "      <td>2.000000</td>\n",
       "      <td>2.000000</td>\n",
       "      <td>1.000000</td>\n",
       "      <td>2911.000000</td>\n",
       "      <td>0.000000</td>\n",
       "      <td>0.000000</td>\n",
       "      <td>6.000000</td>\n",
       "      <td>2.000000</td>\n",
       "      <td>3.000000</td>\n",
       "      <td>2.000000</td>\n",
       "      <td>0.000000</td>\n",
       "    </tr>\n",
       "    <tr>\n",
       "      <th>50%</th>\n",
       "      <td>0.000000</td>\n",
       "      <td>36.000000</td>\n",
       "      <td>2.000000</td>\n",
       "      <td>7.000000</td>\n",
       "      <td>3.000000</td>\n",
       "      <td>1.000000</td>\n",
       "      <td>4919.000000</td>\n",
       "      <td>0.000000</td>\n",
       "      <td>1.000000</td>\n",
       "      <td>10.000000</td>\n",
       "      <td>3.000000</td>\n",
       "      <td>5.000000</td>\n",
       "      <td>3.000000</td>\n",
       "      <td>1.000000</td>\n",
       "    </tr>\n",
       "    <tr>\n",
       "      <th>75%</th>\n",
       "      <td>0.000000</td>\n",
       "      <td>43.000000</td>\n",
       "      <td>2.000000</td>\n",
       "      <td>14.000000</td>\n",
       "      <td>4.000000</td>\n",
       "      <td>2.000000</td>\n",
       "      <td>8379.000000</td>\n",
       "      <td>1.000000</td>\n",
       "      <td>1.000000</td>\n",
       "      <td>15.000000</td>\n",
       "      <td>3.000000</td>\n",
       "      <td>9.000000</td>\n",
       "      <td>7.000000</td>\n",
       "      <td>3.000000</td>\n",
       "    </tr>\n",
       "    <tr>\n",
       "      <th>max</th>\n",
       "      <td>1.000000</td>\n",
       "      <td>60.000000</td>\n",
       "      <td>2.000000</td>\n",
       "      <td>29.000000</td>\n",
       "      <td>4.000000</td>\n",
       "      <td>2.000000</td>\n",
       "      <td>19999.000000</td>\n",
       "      <td>1.000000</td>\n",
       "      <td>3.000000</td>\n",
       "      <td>40.000000</td>\n",
       "      <td>4.000000</td>\n",
       "      <td>40.000000</td>\n",
       "      <td>18.000000</td>\n",
       "      <td>15.000000</td>\n",
       "    </tr>\n",
       "  </tbody>\n",
       "</table>\n",
       "</div>"
      ],
      "text/plain": [
       "         Attrition          Age  BusinessTravel  DistanceFromHome  \\\n",
       "count  1470.000000  1470.000000     1470.000000       1470.000000   \n",
       "mean      0.161224    36.923810        1.607483          9.192517   \n",
       "std       0.367863     9.135373        0.665455          8.106864   \n",
       "min       0.000000    18.000000        0.000000          1.000000   \n",
       "25%       0.000000    30.000000        1.000000          2.000000   \n",
       "50%       0.000000    36.000000        2.000000          7.000000   \n",
       "75%       0.000000    43.000000        2.000000         14.000000   \n",
       "max       1.000000    60.000000        2.000000         29.000000   \n",
       "\n",
       "       JobSatisfaction  MaritalStatus  MonthlyIncome     OverTime  \\\n",
       "count      1470.000000    1470.000000    1470.000000  1470.000000   \n",
       "mean          2.728571       1.097279    6502.931293     0.282993   \n",
       "std           1.102846       0.730121    4707.956783     0.450606   \n",
       "min           1.000000       0.000000    1009.000000     0.000000   \n",
       "25%           2.000000       1.000000    2911.000000     0.000000   \n",
       "50%           3.000000       1.000000    4919.000000     0.000000   \n",
       "75%           4.000000       2.000000    8379.000000     1.000000   \n",
       "max           4.000000       2.000000   19999.000000     1.000000   \n",
       "\n",
       "       StockOptionLevel  TotalWorkingYears  WorkLifeBalance  YearsAtCompany  \\\n",
       "count       1470.000000        1470.000000      1470.000000     1470.000000   \n",
       "mean           0.793878          11.279592         2.761224        7.008163   \n",
       "std            0.852077           7.780782         0.706476        6.126525   \n",
       "min            0.000000           0.000000         1.000000        0.000000   \n",
       "25%            0.000000           6.000000         2.000000        3.000000   \n",
       "50%            1.000000          10.000000         3.000000        5.000000   \n",
       "75%            1.000000          15.000000         3.000000        9.000000   \n",
       "max            3.000000          40.000000         4.000000       40.000000   \n",
       "\n",
       "       YearsInCurrentRole  YearsSinceLastPromotion  \n",
       "count         1470.000000              1470.000000  \n",
       "mean             4.229252                 2.187755  \n",
       "std              3.623137                 3.222430  \n",
       "min              0.000000                 0.000000  \n",
       "25%              2.000000                 0.000000  \n",
       "50%              3.000000                 1.000000  \n",
       "75%              7.000000                 3.000000  \n",
       "max             18.000000                15.000000  "
      ]
     },
     "execution_count": 27,
     "metadata": {},
     "output_type": "execute_result"
    }
   ],
   "source": [
    "#Descriptive stats for the dataset\n",
    "employee_data.describe()"
   ]
  },
  {
   "cell_type": "markdown",
   "id": "04cfffa5",
   "metadata": {},
   "source": [
    "We can have a look at the target variable (Attrition) using a histogram plot to see how frequently it's values occur in the data."
   ]
  },
  {
   "cell_type": "code",
   "execution_count": 28,
   "id": "a9d92070",
   "metadata": {},
   "outputs": [
    {
     "data": {
      "text/plain": [
       "Text(0.5, 0, 'Attrition')"
      ]
     },
     "execution_count": 28,
     "metadata": {},
     "output_type": "execute_result"
    },
    {
     "data": {
      "image/png": "[encoded data removed]",
      "text/plain": [
       "<Figure size 720x360 with 1 Axes>"
      ]
     },
     "metadata": {
      "needs_background": "light"
     },
     "output_type": "display_data"
    }
   ],
   "source": [
    "#Plot a Histogram of the target variable\n",
    "employee_data.Attrition.value_counts().nlargest(40).plot(kind='bar', figsize=(10,5))\n",
    "plt.title('Attrition of Employees')\n",
    "plt.ylabel('Occurence of each in the dataset')\n",
    "plt.xlabel('Attrition')"
   ]
  },
  {
   "cell_type": "markdown",
   "id": "85266418",
   "metadata": {},
   "source": [
    "# Predictive Modelling"
   ]
  },
  {
   "cell_type": "markdown",
   "id": "e2c34181",
   "metadata": {},
   "source": [
    "X will contain our independent feature variables and y is our target/outcome variable."
   ]
  },
  {
   "cell_type": "code",
   "execution_count": 29,
   "id": "115e5c58",
   "metadata": {},
   "outputs": [],
   "source": [
    "#Separate x_inputs from y_target variables\n",
    "x_inputs = employee_data.drop(['Attrition'], axis=1)\n",
    "y_target = employee_data['Attrition']"
   ]
  },
  {
   "cell_type": "markdown",
   "id": "5451a60e",
   "metadata": {},
   "source": [
    "### Test/Train Split\n",
    "\n",
    "Split the data into 50% training / testing and initialize each of the classifiers."
   ]
  },
  {
   "cell_type": "code",
   "execution_count": 30,
   "id": "eff0ad03",
   "metadata": {},
   "outputs": [],
   "source": [
    "#split the dataset into training and test sets\n",
    "x_train, x_test, y_train, y_test = train_test_split(x_inputs, y_target, test_size=0.5, random_state=0)"
   ]
  },
  {
   "cell_type": "code",
   "execution_count": 31,
   "id": "5e1f2b16",
   "metadata": {},
   "outputs": [
    {
     "name": "stdout",
     "output_type": "stream",
     "text": [
      "Number of mislabeled points out of a total 735 points:\n",
      "classifier_NB: 104\n",
      "classifier_SVM: 112\n",
      "classifier_KNN: 139\n",
      "classifier_DT: 148\n",
      "classifier_RF: 109\n"
     ]
    }
   ],
   "source": [
    "# Define the classifiers\n",
    "classifiers = {\n",
    "    \"classifier_NB\":    GaussianNB(),\n",
    "    \"classifier_SVM\":   SVC(gamma = 2, C = 1),\n",
    "    \"classifier_KNN\":   KNeighborsClassifier(n_neighbors = 3),\n",
    "    \"classifier_DT\":    DecisionTreeClassifier(random_state = 0),\n",
    "    \"classifier_RF\":    RandomForestClassifier(max_depth = 2, random_state = 0)\n",
    "}\n",
    "results = {}\n",
    "print(\"Number of mislabeled points out of a total %d points:\" % x_test.shape[0])\n",
    "# Train the classifiers on the training set and test classifiers on unseen test data\n",
    "for clf_name, clf_model in classifiers.items():\n",
    "    clf_model.fit(x_train, y_train)\n",
    "    clf_model.predict(x_test)\n",
    "    print(clf_name + \": %d\" % (y_test != clf_model.predict(x_test)).sum())\n",
    "    results[clf_name] = clf_model.predict(x_test)"
   ]
  },
  {
   "cell_type": "markdown",
   "id": "9526a97a",
   "metadata": {},
   "source": [
    "# Evaluation Metrics\n",
    "We will use Accuracy, Precision, Recall and F₁ and F₂ score to evaluate our model's performance results using sklearn's metric library.. "
   ]
  },
  {
   "cell_type": "code",
   "execution_count": 32,
   "id": "1f4c66d9",
   "metadata": {},
   "outputs": [
    {
     "name": "stdout",
     "output_type": "stream",
     "text": [
      "Accuracy Scores:\n",
      "\n",
      "Precision Scores:\n",
      "\n",
      "Recall Scores:\n",
      "\n",
      "F₁ Scores:\n",
      "\n",
      "F₂ Scores:\n"
     ]
    }
   ],
   "source": [
    "#Print Evaluation Metrics: Accuracy, Precision, Recall, F1 and F2\n",
    "\n",
    "print(\"Accuracy Scores:\")\n",
    "\n",
    "\n",
    "print(\"\\nPrecision Scores:\")\n",
    "\n",
    "\n",
    "print(\"\\nRecall Scores:\")\n",
    "\n",
    "\n",
    "print(\"\\nF₁ Scores:\")\n",
    "\n",
    "        \n",
    "print(\"\\nF₂ Scores:\")\n",
    "\n"
   ]
  },
  {
   "cell_type": "markdown",
   "id": "1d6e0ef9",
   "metadata": {},
   "source": [
    "Next, we can plot the results on a confusion matrix using [sklearn's plot_confusion_matrix function](https://scikit-learn.org/stable/modules/generated/sklearn.metrics.plot_confusion_matrix.html#sklearn.metrics.plot_confusion_matrix) as we saw in the lecture slides for a visual evaluation."
   ]
  },
  {
   "cell_type": "code",
   "execution_count": 33,
   "id": "a743a7ab",
   "metadata": {},
   "outputs": [
    {
     "name": "stderr",
     "output_type": "stream",
     "text": [
      "C:\\Users\\User\\anaconda3\\lib\\site-packages\\sklearn\\utils\\deprecation.py:87: FutureWarning: Function plot_confusion_matrix is deprecated; Function `plot_confusion_matrix` is deprecated in 1.0 and will be removed in 1.2. Use one of the class methods: ConfusionMatrixDisplay.from_predictions or ConfusionMatrixDisplay.from_estimator.\n",
      "  warnings.warn(msg, category=FutureWarning)\n",
      "C:\\Users\\User\\anaconda3\\lib\\site-packages\\sklearn\\utils\\deprecation.py:87: FutureWarning: Function plot_confusion_matrix is deprecated; Function `plot_confusion_matrix` is deprecated in 1.0 and will be removed in 1.2. Use one of the class methods: ConfusionMatrixDisplay.from_predictions or ConfusionMatrixDisplay.from_estimator.\n",
      "  warnings.warn(msg, category=FutureWarning)\n",
      "C:\\Users\\User\\anaconda3\\lib\\site-packages\\sklearn\\utils\\deprecation.py:87: FutureWarning: Function plot_confusion_matrix is deprecated; Function `plot_confusion_matrix` is deprecated in 1.0 and will be removed in 1.2. Use one of the class methods: ConfusionMatrixDisplay.from_predictions or ConfusionMatrixDisplay.from_estimator.\n",
      "  warnings.warn(msg, category=FutureWarning)\n",
      "C:\\Users\\User\\anaconda3\\lib\\site-packages\\sklearn\\utils\\deprecation.py:87: FutureWarning: Function plot_confusion_matrix is deprecated; Function `plot_confusion_matrix` is deprecated in 1.0 and will be removed in 1.2. Use one of the class methods: ConfusionMatrixDisplay.from_predictions or ConfusionMatrixDisplay.from_estimator.\n",
      "  warnings.warn(msg, category=FutureWarning)\n",
      "C:\\Users\\User\\anaconda3\\lib\\site-packages\\sklearn\\utils\\deprecation.py:87: FutureWarning: Function plot_confusion_matrix is deprecated; Function `plot_confusion_matrix` is deprecated in 1.0 and will be removed in 1.2. Use one of the class methods: ConfusionMatrixDisplay.from_predictions or ConfusionMatrixDisplay.from_estimator.\n",
      "  warnings.warn(msg, category=FutureWarning)\n"
     ]
    },
    {
     "data": {
      "image/png": "[encoded data removed]",
      "text/plain": [
       "<Figure size 432x288 with 2 Axes>"
      ]
     },
     "metadata": {
      "needs_background": "light"
     },
     "output_type": "display_data"
    },
    {
     "data": {
      "image/png": "[encoded data removed]",
      "text/plain": [
       "<Figure size 432x288 with 2 Axes>"
      ]
     },
     "metadata": {
      "needs_background": "light"
     },
     "output_type": "display_data"
    },
    {
     "data": {
      "image/png": "[encoded data removed]",
      "text/plain": [
       "<Figure size 432x288 with 2 Axes>"
      ]
     },
     "metadata": {
      "needs_background": "light"
     },
     "output_type": "display_data"
    },
    {
     "data": {
      "image/png": "[encoded data removed]",
      "text/plain": [
       "<Figure size 432x288 with 2 Axes>"
      ]
     },
     "metadata": {
      "needs_background": "light"
     },
     "output_type": "display_data"
    },
    {
     "data": {
      "image/png": "[encoded data removed]",
      "text/plain": [
       "<Figure size 432x288 with 2 Axes>"
      ]
     },
     "metadata": {
      "needs_background": "light"
     },
     "output_type": "display_data"
    }
   ],
   "source": [
    "#Display Confusion Matrix For Each Classifier\n",
    "\n",
    "for clf_name, clf_model in classifiers.items():\n",
    "    plot_confusion_matrix(clf_model, x_test, y_test)\n",
    "    plt.title(clf_name)"
   ]
  },
  {
   "cell_type": "markdown",
   "id": "f7bf4015",
   "metadata": {},
   "source": [
    "We can see that for both models, they predict mostly '0' label which is the 'Not Attritioned' in our dataset as most of our data was trained for class values '0'. Next we will plot the [ROC curve](https://scikit-learn.org/stable/modules/generated/sklearn.metrics.RocCurveDisplay.html#sklearn.metrics.RocCurveDisplay). ROC shows the results at different classification thresholds as seen on the curve."
   ]
  },
  {
   "cell_type": "markdown",
   "id": "1952c5a1",
   "metadata": {},
   "source": [
    "As we saw in the lecture what an ideal classifier looks like (closer to the True Positive Rate), we can see that the classifier in this case seems to be performing well."
   ]
  },
  {
   "cell_type": "code",
   "execution_count": 34,
   "id": "8d357f0a",
   "metadata": {},
   "outputs": [
    {
     "name": "stderr",
     "output_type": "stream",
     "text": [
      "C:\\Users\\User\\anaconda3\\lib\\site-packages\\sklearn\\utils\\deprecation.py:87: FutureWarning: Function plot_roc_curve is deprecated; Function :func:`plot_roc_curve` is deprecated in 1.0 and will be removed in 1.2. Use one of the class methods: :meth:`sklearn.metric.RocCurveDisplay.from_predictions` or :meth:`sklearn.metric.RocCurveDisplay.from_estimator`.\n",
      "  warnings.warn(msg, category=FutureWarning)\n",
      "C:\\Users\\User\\anaconda3\\lib\\site-packages\\sklearn\\utils\\deprecation.py:87: FutureWarning: Function plot_roc_curve is deprecated; Function :func:`plot_roc_curve` is deprecated in 1.0 and will be removed in 1.2. Use one of the class methods: :meth:`sklearn.metric.RocCurveDisplay.from_predictions` or :meth:`sklearn.metric.RocCurveDisplay.from_estimator`.\n",
      "  warnings.warn(msg, category=FutureWarning)\n",
      "C:\\Users\\User\\anaconda3\\lib\\site-packages\\sklearn\\utils\\deprecation.py:87: FutureWarning: Function plot_roc_curve is deprecated; Function :func:`plot_roc_curve` is deprecated in 1.0 and will be removed in 1.2. Use one of the class methods: :meth:`sklearn.metric.RocCurveDisplay.from_predictions` or :meth:`sklearn.metric.RocCurveDisplay.from_estimator`.\n",
      "  warnings.warn(msg, category=FutureWarning)\n",
      "C:\\Users\\User\\anaconda3\\lib\\site-packages\\sklearn\\utils\\deprecation.py:87: FutureWarning: Function plot_roc_curve is deprecated; Function :func:`plot_roc_curve` is deprecated in 1.0 and will be removed in 1.2. Use one of the class methods: :meth:`sklearn.metric.RocCurveDisplay.from_predictions` or :meth:`sklearn.metric.RocCurveDisplay.from_estimator`.\n",
      "  warnings.warn(msg, category=FutureWarning)\n",
      "C:\\Users\\User\\anaconda3\\lib\\site-packages\\sklearn\\utils\\deprecation.py:87: FutureWarning: Function plot_roc_curve is deprecated; Function :func:`plot_roc_curve` is deprecated in 1.0 and will be removed in 1.2. Use one of the class methods: :meth:`sklearn.metric.RocCurveDisplay.from_predictions` or :meth:`sklearn.metric.RocCurveDisplay.from_estimator`.\n",
      "  warnings.warn(msg, category=FutureWarning)\n"
     ]
    },
    {
     "data": {
      "image/png": "[encoded data removed]",
      "text/plain": [
       "<Figure size 432x288 with 1 Axes>"
      ]
     },
     "metadata": {
      "needs_background": "light"
     },
     "output_type": "display_data"
    }
   ],
   "source": [
    "#Plot ROC Curve\n",
    "roc_figure, roc_axis=plt.subplots()\n",
    "for clf_name, clf_model in classifiers.items():\n",
    "    metrics.plot_roc_curve(clf_model, x_test, y_test, ax=roc_axis)"
   ]
  },
  {
   "cell_type": "markdown",
   "id": "5d395335",
   "metadata": {},
   "source": [
    "## END OF NOTEBOOK"
   ]
  }
 ],
 "metadata": {
  "kernelspec": {
   "display_name": "Python 3 (ipykernel)",
   "language": "python",
   "name": "python3"
  },
  "language_info": {
   "codemirror_mode": {
    "name": "ipython",
    "version": 3
   },
   "file_extension": ".py",
   "mimetype": "text/x-python",
   "name": "python",
   "nbconvert_exporter": "python",
   "pygments_lexer": "ipython3",
   "version": "3.9.12"
  }
 },
 "nbformat": 4,
 "nbformat_minor": 5
}
