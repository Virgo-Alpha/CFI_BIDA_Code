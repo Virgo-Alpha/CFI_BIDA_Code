{
 "cells": [
  {
   "cell_type": "markdown",
   "id": "f11dbe9e",
   "metadata": {},
   "source": [
    "# Chapter 4"
   ]
  },
  {
   "cell_type": "code",
   "execution_count": 2,
   "id": "16518321",
   "metadata": {},
   "outputs": [],
   "source": [
    "import numpy as np\n",
    "import pandas as pd\n",
    "import seaborn as sns\n",
    "import matplotlib.pyplot as plt"
   ]
  },
  {
   "cell_type": "code",
   "execution_count": 3,
   "id": "4089fa14",
   "metadata": {},
   "outputs": [],
   "source": [
    "# Import .csv and create df\n",
    "df = pd.read_csv('Chapter Exercise Data.csv')\n",
    "\n",
    "# Fill na values with zeros in df\n",
    "df = df.fillna(0)"
   ]
  },
  {
   "cell_type": "code",
   "execution_count": 4,
   "id": "3367273e",
   "metadata": {},
   "outputs": [],
   "source": [
    "# Create the Amount column\n",
    "df['Amount'] = df['PricePerItem']*df['Quantity']\n",
    "\n",
    "# Create the df_50 DataFrame\n",
    "df_50 = df[df['Amount'] >= 50]\n",
    "\n",
    "# Remove the Shipping Distance column\n",
    "df = df.drop('ShippingDistance', axis=1)\n",
    "\n",
    "# Create count_of_quantity series\n",
    "Count_of_quantity =  df.groupby('Quantity')['OrderID'].count()"
   ]
  },
  {
   "cell_type": "markdown",
   "id": "d0f95c7f",
   "metadata": {},
   "source": [
    "1. John wants to see the number of products contained in each order - the distribution of quantity. Create a histogram on the Quantity column from the df DataFrame."
   ]
  },
  {
   "cell_type": "code",
   "execution_count": 6,
   "id": "5c329c7c",
   "metadata": {},
   "outputs": [
    {
     "data": {
      "image/png": "[encoded data removed]",
      "text/plain": [
       "<Figure size 432x288 with 1 Axes>"
      ]
     },
     "metadata": {
      "needs_background": "light"
     },
     "output_type": "display_data"
    }
   ],
   "source": [
    "sns.histplot(df['Quantity']);"
   ]
  },
  {
   "cell_type": "markdown",
   "id": "ab37c12b",
   "metadata": {},
   "source": [
    "2. John would like to know how many orders each customers has placed. Create a bar plot to show this – each bar should be the number of orders, aggregated by the count of customers who placed that many orders."
   ]
  },
  {
   "cell_type": "code",
   "execution_count": 7,
   "id": "8fbf4ddf",
   "metadata": {},
   "outputs": [
    {
     "data": {
      "image/png": "[encoded data removed]",
      "text/plain": [
       "<Figure size 432x288 with 1 Axes>"
      ]
     },
     "metadata": {
      "needs_background": "light"
     },
     "output_type": "display_data"
    }
   ],
   "source": [
    "# Count number of OrderID for each CustomerID\n",
    "cust_orders = pd.DataFrame(df.groupby('CustomerID')['OrderID'].count())\n",
    "cust_orders\n",
    "\n",
    "# Count number of Customers for each Order Quantity\n",
    "orders_by_customers = pd.DataFrame(cust_orders.groupby('OrderID')['OrderID'].count())\n",
    "orders_by_customers\n",
    "\n",
    "# Create bar plot\n",
    "sns.barplot(x=orders_by_customers.index, y='OrderID', data=orders_by_customers);"
   ]
  },
  {
   "cell_type": "markdown",
   "id": "55f4ef7e",
   "metadata": {},
   "source": [
    "3. John wants to know the relationship between the quantity of products in an order and the amount paid for that order. Create a scatter plot of Quantity vs Amount."
   ]
  },
  {
   "cell_type": "code",
   "execution_count": 8,
   "id": "5246000c",
   "metadata": {},
   "outputs": [
    {
     "data": {
      "image/png": "[encoded data removed]",
      "text/plain": [
       "<Figure size 432x288 with 1 Axes>"
      ]
     },
     "metadata": {
      "needs_background": "light"
     },
     "output_type": "display_data"
    }
   ],
   "source": [
    "sns.scatterplot(x='Quantity', y='Amount', data=df);"
   ]
  }
 ],
 "metadata": {
  "kernelspec": {
   "display_name": "Python 3 (ipykernel)",
   "language": "python",
   "name": "python3"
  },
  "language_info": {
   "codemirror_mode": {
    "name": "ipython",
    "version": 3
   },
   "file_extension": ".py",
   "mimetype": "text/x-python",
   "name": "python",
   "nbconvert_exporter": "python",
   "pygments_lexer": "ipython3",
   "version": "3.8.10"
  }
 },
 "nbformat": 4,
 "nbformat_minor": 5
}
