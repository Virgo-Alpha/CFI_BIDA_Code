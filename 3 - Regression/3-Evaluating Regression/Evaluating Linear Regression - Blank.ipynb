{
 "cells": [
  {
   "cell_type": "markdown",
   "id": "f82bd04a",
   "metadata": {
    "id": "f82bd04a"
   },
   "source": [
    "# Interpreting Linear Regression"
   ]
  },
  {
   "cell_type": "markdown",
   "id": "NN05D8CaDkpY",
   "metadata": {
    "id": "NN05D8CaDkpY"
   },
   "source": [
    "In this notebook we will continue with our car price prediction example and explore the methods we use to interpret and evaluate the results of our linear regression model. We will begin by reproducing the results from the previous notebook.\n",
    "\n",
    "As usual, we first import the required packages and dataset."
   ]
  },
  {
   "cell_type": "code",
   "execution_count": 1,
   "id": "a0cc2607",
   "metadata": {
    "id": "a0cc2607"
   },
   "outputs": [],
   "source": [
    "import pandas as pd\n",
    "import matplotlib.pyplot as plot\n",
    "import statsmodels.api as stats\n",
    "import numpy as np"
   ]
  },
  {
   "cell_type": "code",
   "execution_count": 2,
   "id": "9b6d2bc8",
   "metadata": {
    "id": "9b6d2bc8"
   },
   "outputs": [],
   "source": [
    "carprice_df = pd.read_csv('CarPrice_Assignment.csv')"
   ]
  },
  {
   "cell_type": "markdown",
   "id": "hua9qU5uDntS",
   "metadata": {
    "id": "hua9qU5uDntS"
   },
   "source": [
    "We then remove the independent variables with too many unique categories or have high correlations with other independent variables."
   ]
  },
  {
   "cell_type": "code",
   "execution_count": null,
   "id": "961bb3c9",
   "metadata": {
    "id": "961bb3c9"
   },
   "outputs": [],
   "source": [
    "carprice_df = carprice_df.drop(columns = ['carID', 'carName', 'carlength', 'carwidth', 'highwaympg'])"
   ]
  },
  {
   "cell_type": "markdown",
   "id": "DiMbfFJIDvdy",
   "metadata": {
    "id": "DiMbfFJIDvdy"
   },
   "source": [
    "Next we one-hot-encode the categorical variables so each category in a categorical variable becomes its own binary column - this converts categorical variables to numeric. We also remove more highly correlated variables after including the one-hot-encoded variables."
   ]
  },
  {
   "cell_type": "code",
   "execution_count": 5,
   "id": "9648b4a7",
   "metadata": {
    "id": "9648b4a7"
   },
   "outputs": [],
   "source": [
    "dummy = pd.get_dummies(carprice_df.select_dtypes(include = 'object'), drop_first = True)"
   ]
  },
  {
   "cell_type": "code",
   "execution_count": 6,
   "id": "a55fdeb8",
   "metadata": {
    "id": "a55fdeb8"
   },
   "outputs": [],
   "source": [
    "carprice_df = pd.concat([carprice_df.select_dtypes(exclude='object'), dummy], axis=1)"
   ]
  },
  {
   "cell_type": "code",
   "execution_count": 7,
   "id": "fe6596c1",
   "metadata": {
    "id": "fe6596c1"
   },
   "outputs": [],
   "source": [
    "carprice_df = carprice_df.drop(columns=['compressionratio', 'drivewheel_fwd', 'enginetype_rotor', 'fuelsystem_4bbl', 'fuelsystem_idi'])"
   ]
  },
  {
   "cell_type": "markdown",
   "id": "UlKhKm6lDr7H",
   "metadata": {
    "id": "UlKhKm6lDr7H"
   },
   "source": [
    "We then split our data into train and test sets, and add our constant column."
   ]
  },
  {
   "cell_type": "code",
   "execution_count": 8,
   "id": "be6116d3",
   "metadata": {
    "id": "be6116d3"
   },
   "outputs": [],
   "source": [
    "train_df=carprice_df.sample(frac=0.7, random_state=101) \n",
    "test_df=carprice_df.drop(train_df.index)"
   ]
  },
  {
   "cell_type": "code",
   "execution_count": 10,
   "id": "74dc7903",
   "metadata": {
    "id": "74dc7903"
   },
   "outputs": [],
   "source": [
    "Y_train = train_df.price\n",
    "X_train = stats.add_constant(train_df.drop(columns = ['price']))"
   ]
  },
  {
   "cell_type": "markdown",
   "id": "o_fL_h02D1J6",
   "metadata": {
    "id": "o_fL_h02D1J6"
   },
   "source": [
    "We then fit our model to the training data"
   ]
  },
  {
   "cell_type": "code",
   "execution_count": 11,
   "id": "284a688d",
   "metadata": {
    "id": "284a688d"
   },
   "outputs": [],
   "source": [
    "model_carprice = stats.OLS(Y_train, X_train)\n",
    "results_carprice = model_carprice.fit()"
   ]
  },
  {
   "cell_type": "code",
   "execution_count": 12,
   "id": "8f2af9ac",
   "metadata": {
    "id": "8f2af9ac"
   },
   "outputs": [],
   "source": [
    "Y_test = test_df.price\n",
    "test_df = stats.add_constant(test_df)\n",
    "X_test = test_df[X_train.columns]"
   ]
  },
  {
   "cell_type": "markdown",
   "id": "ATMTsMerD42X",
   "metadata": {
    "id": "ATMTsMerD42X"
   },
   "source": [
    "We finally produce our test set predictions\n",
    "\n"
   ]
  },
  {
   "cell_type": "code",
   "execution_count": 13,
   "id": "db55d3b3",
   "metadata": {
    "id": "db55d3b3"
   },
   "outputs": [],
   "source": [
    "test_predictions = results_carprice.predict(X_test)"
   ]
  },
  {
   "cell_type": "markdown",
   "id": "b14acb50",
   "metadata": {
    "id": "b14acb50"
   },
   "source": [
    "# p-Values and Coefficients"
   ]
  },
  {
   "cell_type": "markdown",
   "id": "3a49379a",
   "metadata": {
    "id": "3a49379a"
   },
   "source": [
    "### p-Values"
   ]
  },
  {
   "cell_type": "code",
   "execution_count": 14,
   "id": "951f97ae",
   "metadata": {
    "id": "951f97ae"
   },
   "outputs": [
    {
     "name": "stdout",
     "output_type": "stream",
     "text": [
      "                            OLS Regression Results                            \n",
      "==============================================================================\n",
      "Dep. Variable:                  price   R-squared:                       1.000\n",
      "Model:                            OLS   Adj. R-squared:                  0.996\n",
      "Method:                 Least Squares   F-statistic:                     228.3\n",
      "Date:                Mon, 26 Sep 2022   Prob (F-statistic):             0.0527\n",
      "Time:                        11:12:34   Log-Likelihood:                -738.68\n",
      "No. Observations:                 144   AIC:                             1763.\n",
      "Df Residuals:                       1   BIC:                             2188.\n",
      "Df Model:                         142                                         \n",
      "Covariance Type:            nonrobust                                         \n",
      "===========================================================================================================\n",
      "                                              coef    std err          t      P>|t|      [0.025      0.975]\n",
      "-----------------------------------------------------------------------------------------------------------\n",
      "const                                    6468.4680    1.3e+04      0.499      0.705   -1.58e+05    1.71e+05\n",
      "car_ID                                    102.6956     89.027      1.154      0.455   -1028.494    1233.886\n",
      "symboling                                -595.9712   1303.791     -0.457      0.727   -1.72e+04     1.6e+04\n",
      "wheelbase                                 203.5752    144.676      1.407      0.393   -1634.701    2041.852\n",
      "carlength                                -376.5787    100.789     -3.736      0.166   -1657.226     904.069\n",
      "carwidth                                 1002.7305    356.382      2.814      0.217   -3525.531    5530.992\n",
      "carheight                                -576.1204    611.087     -0.943      0.519   -8340.719    7188.478\n",
      "curbweight                                  5.8360     16.780      0.348      0.787    -207.377     219.050\n",
      "enginesize                                 45.0879    217.461      0.207      0.870   -2718.014    2808.190\n",
      "boreratio                                -892.9871   4400.454     -0.203      0.873   -5.68e+04     5.5e+04\n",
      "stroke                                  -2056.5140   3965.009     -0.519      0.695   -5.24e+04    4.83e+04\n",
      "horsepower                                -15.7371     24.131     -0.652      0.632    -322.345     290.871\n",
      "peakrpm                                     0.8428      3.157      0.267      0.834     -39.266      40.952\n",
      "citympg                                   -63.4714    261.925     -0.242      0.849   -3391.545    3264.602\n",
      "highwaympg                                -64.3348    164.333     -0.391      0.762   -2152.388    2023.718\n",
      "CarName_alfa-romero Quadrifoglio         8176.7308   9079.069      0.901      0.533   -1.07e+05    1.24e+05\n",
      "CarName_alfa-romero giulia               1.127e-09   8.96e-10      1.257      0.428   -1.03e-08    1.25e-08\n",
      "CarName_alfa-romero stelvio              1.918e+04   1.04e+04      1.836      0.317   -1.14e+05    1.52e+05\n",
      "CarName_audi 100 ls                      1.524e+04   1.04e+04      1.465      0.381   -1.17e+05    1.47e+05\n",
      "CarName_audi 100ls                       7619.8000   7473.128      1.020      0.494   -8.73e+04    1.03e+05\n",
      "CarName_audi 4000                         -7.9e-10   8.79e-10     -0.898      0.534    -1.2e-08    1.04e-08\n",
      "CarName_audi 5000                        7.011e-10   4.74e-10      1.478      0.379   -5.33e-09    6.73e-09\n",
      "CarName_audi 5000s (diesel)               629.8618   5802.830      0.109      0.931   -7.31e+04    7.44e+04\n",
      "CarName_audi fox                        -7.408e-10   1.05e-09     -0.703      0.610   -1.41e-08    1.26e-08\n",
      "CarName_bmw 320i                         1.567e+04   8255.131      1.899      0.309   -8.92e+04    1.21e+05\n",
      "CarName_bmw x1                           6720.7468   4556.717      1.475      0.379   -5.12e+04    6.46e+04\n",
      "CarName_bmw x3                           6708.3726   5201.905      1.290      0.420   -5.94e+04    7.28e+04\n",
      "CarName_bmw x4                           1.422e+04   7033.025      2.022      0.292   -7.51e+04    1.04e+05\n",
      "CarName_bmw x5                           2.317e+04   5501.733      4.212      0.148   -4.67e+04    9.31e+04\n",
      "CarName_bmw z4                           1.154e+04   8909.362      1.295      0.419   -1.02e+05    1.25e+05\n",
      "CarName_buick century                    -146.1663   1250.119     -0.117      0.926    -1.6e+04    1.57e+04\n",
      "CarName_buick century luxus (sw)         2233.9930   3700.990      0.604      0.654   -4.48e+04    4.93e+04\n",
      "CarName_buick century special            4.563e-10   3.91e-10      1.169      0.451   -4.51e-09    5.42e-09\n",
      "CarName_buick electra 225 custom          599.8776   3556.121      0.169      0.894   -4.46e+04    4.58e+04\n",
      "CarName_buick opel isuzu deluxe          2.402e-10   2.68e-10      0.898      0.534   -3.16e-09    3.64e-09\n",
      "CarName_buick regal sport coupe (turbo)  1.825e+04   1.39e+04      1.309      0.415   -1.59e+05    1.95e+05\n",
      "CarName_buick skyhawk                   -6.506e-10   8.12e-10     -0.801      0.570    -1.1e-08    9.67e-09\n",
      "CarName_buick skylark                   -6.542e-10   6.61e-10     -0.989      0.504   -9.06e-09    7.75e-09\n",
      "CarName_chevrolet impala                  -42.2504   2785.217     -0.015      0.990   -3.54e+04    3.53e+04\n",
      "CarName_chevrolet monte carlo            2.683e-10   2.19e-10      1.225      0.436   -2.51e-09    3.05e-09\n",
      "CarName_chevrolet vega 2300              4553.8645   8174.096      0.557      0.676   -9.93e+04    1.08e+05\n",
      "CarName_dodge challenger se              2617.8222   7297.452      0.359      0.781   -9.01e+04    9.53e+04\n",
      "CarName_dodge colt (sw)                  3003.1306   7914.285      0.379      0.769   -9.76e+04    1.04e+05\n",
      "CarName_dodge colt hardtop               2188.8263   7991.528      0.274      0.830   -9.94e+04    1.04e+05\n",
      "CarName_dodge coronet custom             -544.4417   6555.699     -0.083      0.947   -8.38e+04    8.28e+04\n",
      "CarName_dodge coronet custom (sw)        6565.6071   3962.622      1.657      0.346   -4.38e+04    5.69e+04\n",
      "CarName_dodge d200                       -314.2485   7607.956     -0.041      0.974    -9.7e+04    9.64e+04\n",
      "CarName_dodge dart custom                1.047e-09   9.39e-10      1.116      0.465   -1.09e-08     1.3e-08\n",
      "CarName_dodge monaco (sw)                1894.4307   7933.183      0.239      0.851   -9.89e+04    1.03e+05\n",
      "CarName_dodge rampage                    2489.3504   7981.161      0.312      0.808   -9.89e+04    1.04e+05\n",
      "CarName_honda accord                     1.242e+04   6953.647      1.785      0.325   -7.59e+04    1.01e+05\n",
      "CarName_honda accord cvcc                8739.7358   7368.524      1.186      0.446   -8.49e+04    1.02e+05\n",
      "CarName_honda accord lx                  1.421e+04   7182.692      1.978      0.298   -7.71e+04    1.05e+05\n",
      "CarName_honda civic                      9392.5283   6784.645      1.384      0.398   -7.68e+04    9.56e+04\n",
      "CarName_honda civic (auto)               3594.7725   6699.975      0.537      0.686   -8.15e+04    8.87e+04\n",
      "CarName_honda civic 1300                -1.126e-10   1.39e-10     -0.812      0.566   -1.87e-09    1.65e-09\n",
      "CarName_honda civic 1500 gl              1.309e+04   8797.226      1.488      0.377   -9.87e+04    1.25e+05\n",
      "CarName_honda civic cvcc                 9256.4246   7185.464      1.288      0.420    -8.2e+04    1.01e+05\n",
      "CarName_honda prelude                    1.654e+04   6997.657      2.363      0.255   -7.24e+04    1.05e+05\n",
      "CarName_isuzu D-Max                      6336.1556   5306.308      1.194      0.444   -6.11e+04    7.38e+04\n",
      "CarName_isuzu D-Max V-Cross              3235.8952   6240.392      0.519      0.695   -7.61e+04    8.25e+04\n",
      "CarName_isuzu MU-X                       4888.6050   4913.737      0.995      0.502   -5.75e+04    6.73e+04\n",
      "CarName_jaguar xf                        1.692e+04   9529.342      1.776      0.326   -1.04e+05    1.38e+05\n",
      "CarName_jaguar xj                        1.373e+04   9616.146      1.427      0.389   -1.08e+05    1.36e+05\n",
      "CarName_jaguar xk                        7.923e-10   7.04e-10      1.125      0.463   -8.16e-09    9.74e-09\n",
      "CarName_maxda glc deluxe                 1783.0460   3617.035      0.493      0.708   -4.42e+04    4.77e+04\n",
      "CarName_maxda rx3                         530.2873   4173.583      0.127      0.920   -5.25e+04    5.36e+04\n",
      "CarName_mazda 626                        5816.5418   3955.494      1.470      0.380   -4.44e+04    5.61e+04\n",
      "CarName_mazda glc                        6748.5063   3986.341      1.693      0.340   -4.39e+04    5.74e+04\n",
      "CarName_mazda glc 4                      -209.2823   4966.038     -0.042      0.973   -6.33e+04    6.29e+04\n",
      "CarName_mazda glc custom                 4904.8235   4846.477      1.012      0.496   -5.67e+04    6.65e+04\n",
      "CarName_mazda glc custom l               1.289e-10   1.53e-10      0.841      0.555   -1.82e-09    2.08e-09\n",
      "CarName_mazda glc deluxe                 5766.2501   4628.340      1.246      0.431    -5.3e+04    6.46e+04\n",
      "CarName_mazda rx-4                       5153.4766   4597.611      1.121      0.464   -5.33e+04    6.36e+04\n",
      "CarName_mazda rx-7 gs                    8405.0033   4047.420      2.077      0.286    -4.3e+04    5.98e+04\n",
      "CarName_mazda rx2 coupe                  2351.1701   3541.632      0.664      0.627   -4.26e+04    4.74e+04\n",
      "CarName_mercury cougar                   -8.26e-10   9.91e-10     -0.834      0.558   -1.34e-08    1.18e-08\n",
      "CarName_mitsubishi g4                   -7274.7165   2881.004     -2.525      0.240   -4.39e+04    2.93e+04\n",
      "CarName_mitsubishi lancer               -3711.1320   3429.179     -1.082      0.475   -4.73e+04    3.99e+04\n",
      "CarName_mitsubishi mirage                3.737e-10   3.67e-10      1.018      0.494   -4.29e-09    5.04e-09\n",
      "CarName_mitsubishi mirage g4            -2600.4223   5235.105     -0.497      0.707   -6.91e+04    6.39e+04\n",
      "CarName_mitsubishi montero              -2402.6457   4828.871     -0.498      0.706   -6.38e+04     5.9e+04\n",
      "CarName_mitsubishi outlander            -3683.9903   4056.885     -0.908      0.531   -5.52e+04    4.79e+04\n",
      "CarName_mitsubishi pajero               -1538.7831   5413.440     -0.284      0.824   -7.03e+04    6.72e+04\n",
      "CarName_nissan clipper                  -2249.0256   4909.993     -0.458      0.727   -6.46e+04    6.01e+04\n",
      "CarName_nissan dayz                     -4564.5845   3892.222     -1.173      0.449    -5.4e+04    4.49e+04\n",
      "CarName_nissan fuga                     -4127.3099   4157.273     -0.993      0.502    -5.7e+04    4.87e+04\n",
      "CarName_nissan gt-r                      1943.4571   1635.188      1.189      0.445   -1.88e+04    2.27e+04\n",
      "CarName_nissan juke                      1.389e-12    3.1e-13      4.478      0.140   -2.55e-12    5.33e-12\n",
      "CarName_nissan kicks                     1.316e-12   2.96e-13      4.446      0.141   -2.44e-12    5.08e-12\n",
      "CarName_nissan latio                     1055.5647   1434.208      0.736      0.596   -1.72e+04    1.93e+04\n",
      "CarName_nissan leaf                       924.6871   1367.328      0.676      0.621   -1.64e+04    1.83e+04\n",
      "CarName_nissan note                     -1.458e-12    3.2e-13     -4.551      0.138   -5.53e-12    2.61e-12\n",
      "CarName_nissan nv200                      890.0666   1242.077      0.717      0.604   -1.49e+04    1.67e+04\n",
      "CarName_nissan otti                      1.687e-12   3.12e-13      5.400      0.117   -2.28e-12    5.66e-12\n",
      "CarName_nissan rogue                      775.3634    877.547      0.884      0.539   -1.04e+04    1.19e+04\n",
      "CarName_nissan teana                    -6541.1330   4803.268     -1.362      0.403   -6.76e+04    5.45e+04\n",
      "CarName_nissan titan                     1341.5871   1659.426      0.808      0.567   -1.97e+04    2.24e+04\n",
      "CarName_peugeot 304                     -2005.5490   3522.078     -0.569      0.670   -4.68e+04    4.27e+04\n",
      "CarName_peugeot 504                      2590.7028   1.01e+04      0.257      0.840   -1.26e+05    1.31e+05\n",
      "CarName_peugeot 504 (sw)                 2307.6967   4650.736      0.496      0.707   -5.68e+04    6.14e+04\n",
      "CarName_peugeot 505s turbo diesel        2476.1976   2744.894      0.902      0.533   -3.24e+04    3.74e+04\n",
      "CarName_peugeot 604sl                    1002.4642   2512.336      0.399      0.758   -3.09e+04    3.29e+04\n",
      "CarName_plymouth cricket                -1.116e+04   3121.579     -3.574      0.174   -5.08e+04    2.85e+04\n",
      "CarName_plymouth duster                 -7.649e-13    1.9e-13     -4.034      0.155   -3.17e-12    1.64e-12\n",
      "CarName_plymouth fury gran sedan        -4514.2246   5984.922     -0.754      0.589   -8.06e+04    7.15e+04\n",
      "CarName_plymouth fury iii               -7840.7959   2850.530     -2.751      0.222   -4.41e+04    2.84e+04\n",
      "CarName_plymouth satellite custom (sw)  -3788.9445   4430.457     -0.855      0.550   -6.01e+04    5.25e+04\n",
      "CarName_plymouth valiant                -2674.6565   3670.044     -0.729      0.599   -4.93e+04     4.4e+04\n",
      "CarName_porcshce panamera               -1.041e-12   2.38e-13     -4.384      0.143   -4.06e-12    1.98e-12\n",
      "CarName_porsche boxter                   1.892e-12   3.15e-13      6.008      0.105   -2.11e-12    5.89e-12\n",
      "CarName_porsche cayenne                  3489.4302   3115.575      1.120      0.464   -3.61e+04    4.31e+04\n",
      "CarName_porsche macan                    -110.7995   6423.763     -0.017      0.989   -8.17e+04    8.15e+04\n",
      "CarName_renault 12tl                    -2719.7721   2537.042     -1.072      0.478    -3.5e+04    2.95e+04\n",
      "CarName_renault 5 gtl                   -4397.5993   5122.635     -0.858      0.548   -6.95e+04    6.07e+04\n",
      "CarName_saab 99e                         1.075e-12    1.5e-13      7.155      0.088   -8.34e-13    2.98e-12\n",
      "CarName_saab 99gle                       4541.4321   1.39e+04      0.327      0.799   -1.72e+05    1.81e+05\n",
      "CarName_saab 99le                        1776.9711   1.28e+04      0.139      0.912   -1.61e+05    1.65e+05\n",
      "CarName_subaru                           -364.3918   1736.042     -0.210      0.868   -2.24e+04    2.17e+04\n",
      "CarName_subaru baja                     -1.266e-12   1.78e-13     -7.104      0.089   -3.53e-12    9.98e-13\n",
      "CarName_subaru brz                       -254.8136   2514.327     -0.101      0.936   -3.22e+04    3.17e+04\n",
      "CarName_subaru dl                       -1842.5247   1429.697     -1.289      0.420      -2e+04    1.63e+04\n",
      "CarName_subaru r1                        -168.1857   2599.959     -0.065      0.959   -3.32e+04    3.29e+04\n",
      "CarName_subaru r2                        -797.3656   2239.770     -0.356      0.782   -2.93e+04    2.77e+04\n",
      "CarName_subaru trezia                   -6.527e-14   1.33e-13     -0.489      0.710   -1.76e-12    1.63e-12\n",
      "CarName_subaru tribeca                   -706.3601   2338.422     -0.302      0.813   -3.04e+04     2.9e+04\n",
      "CarName_toyota carina                   -8283.3685   1.81e+04     -0.458      0.726   -2.38e+05    2.21e+05\n",
      "CarName_toyota celica gt                 2.139e-13   7.46e-14      2.867      0.214   -7.34e-13    1.16e-12\n",
      "CarName_toyota celica gt liftback         308.8811   2989.345      0.103      0.934   -3.77e+04    3.83e+04\n",
      "CarName_toyota corolla                  -8416.2530   7075.271     -1.190      0.445   -9.83e+04    8.15e+04\n",
      "CarName_toyota corolla 1200             -8638.7681   6412.039     -1.347      0.406   -9.01e+04    7.28e+04\n",
      "CarName_toyota corolla 1600 (sw)        -4275.1168   7277.548     -0.587      0.662   -9.67e+04    8.82e+04\n",
      "CarName_toyota corolla liftback         -7799.3214   7804.842     -0.999      0.500   -1.07e+05    9.14e+04\n",
      "CarName_toyota corolla tercel             179.4397   3462.311      0.052      0.967   -4.38e+04    4.42e+04\n",
      "CarName_toyota corona                   -9100.0240   7086.602     -1.284      0.421   -9.91e+04    8.09e+04\n",
      "CarName_toyota corona hardtop           -4518.5014   7346.511     -0.615      0.649   -9.79e+04    8.88e+04\n",
      "CarName_toyota corona liftback          -1.209e+04   5629.249     -2.148      0.277   -8.36e+04    5.94e+04\n",
      "CarName_toyota corona mark ii           -9356.3791   6502.020     -1.439      0.387    -9.2e+04    7.33e+04\n",
      "CarName_toyota cressida                 -5762.3055   9749.603     -0.591      0.660    -1.3e+05    1.18e+05\n",
      "CarName_toyota mark ii                  -8364.5368   7656.475     -1.092      0.472   -1.06e+05    8.89e+04\n",
      "CarName_toyota starlet                  -8720.4813   5688.701     -1.533      0.368    -8.1e+04    6.36e+04\n",
      "CarName_toyota tercel                   -1.046e+04   7531.986     -1.389      0.397   -1.06e+05    8.52e+04\n",
      "CarName_toyouta tercel                  -9255.1718   5936.154     -1.559      0.363   -8.47e+04    6.62e+04\n",
      "CarName_vokswagen rabbit                -7497.6599    1.2e+04     -0.626      0.644    -1.6e+05    1.45e+05\n",
      "CarName_volkswagen 1131 deluxe sedan             0          0        nan        nan           0           0\n",
      "CarName_volkswagen 411 (sw)             -8083.9725   9822.609     -0.823      0.562   -1.33e+05    1.17e+05\n",
      "CarName_volkswagen dasher               -7204.4075   9477.769     -0.760      0.586   -1.28e+05    1.13e+05\n",
      "CarName_volkswagen model 111            -7224.2555   1.15e+04     -0.628      0.643   -1.53e+05    1.39e+05\n",
      "CarName_volkswagen rabbit               -1.479e+04   1.13e+04     -1.315      0.414   -1.58e+05    1.28e+05\n",
      "CarName_volkswagen rabbit custom        -7157.9024   1.15e+04     -0.623      0.645   -1.53e+05    1.39e+05\n",
      "CarName_volkswagen super beetle         -8594.2265   1.02e+04     -0.841      0.555   -1.38e+05    1.21e+05\n",
      "CarName_volkswagen type 3               -7913.6060   9136.068     -0.866      0.546   -1.24e+05    1.08e+05\n",
      "CarName_volvo 144ea                     -9192.4556   9260.634     -0.993      0.502   -1.27e+05    1.08e+05\n",
      "CarName_volvo 145e (sw)                          0          0        nan        nan           0           0\n",
      "CarName_volvo 244dl                     -9670.9735   9773.524     -0.990      0.503   -1.34e+05    1.15e+05\n",
      "CarName_volvo 245                       -6241.4632   9371.022     -0.666      0.626   -1.25e+05    1.13e+05\n",
      "CarName_volvo 246                       -1.765e+04   1.25e+04     -1.416      0.391   -1.76e+05    1.41e+05\n",
      "CarName_volvo 264gl                     -6924.0384   9659.511     -0.717      0.604    -1.3e+05    1.16e+05\n",
      "CarName_volvo diesel                             0          0        nan        nan           0           0\n",
      "CarName_vw dasher                                0          0        nan        nan           0           0\n",
      "CarName_vw rabbit                       -9744.2114   9565.227     -1.019      0.494   -1.31e+05    1.12e+05\n",
      "fueltype_gas                            -1.038e+04   4282.812     -2.424      0.249   -6.48e+04     4.4e+04\n",
      "aspiration_turbo                         2488.1964   4417.297      0.563      0.673   -5.36e+04    5.86e+04\n",
      "doornumber_two                            276.3038   1163.005      0.238      0.852   -1.45e+04    1.51e+04\n",
      "carbody_hardtop                          -414.6786   5468.990     -0.076      0.952   -6.99e+04    6.91e+04\n",
      "carbody_hatchback                       -2422.8735   3296.913     -0.735      0.597   -4.43e+04    3.95e+04\n",
      "carbody_sedan                           -2485.3577   4407.335     -0.564      0.673   -5.85e+04    5.35e+04\n",
      "carbody_wagon                           -1630.1743   2667.278     -0.611      0.651   -3.55e+04    3.23e+04\n",
      "drivewheel_rwd                            598.7925   4197.015      0.143      0.910   -5.27e+04    5.39e+04\n",
      "enginelocation_rear                      6283.2038   5639.442      1.114      0.466   -6.54e+04    7.79e+04\n",
      "enginetype_dohcv                        -2793.7736   4677.794     -0.597      0.657   -6.22e+04    5.66e+04\n",
      "enginetype_l                             6329.2619   5021.135      1.261      0.427   -5.75e+04    7.01e+04\n",
      "enginetype_ohc                           8903.0475   3928.998      2.266      0.265    -4.1e+04    5.88e+04\n",
      "enginetype_ohcf                          2149.5623   5290.253      0.406      0.754   -6.51e+04    6.94e+04\n",
      "enginetype_ohcv                          1522.5161   1784.209      0.853      0.550   -2.11e+04    2.42e+04\n",
      "cylindernumber_five                     -3853.8210   3215.511     -1.199      0.443   -4.47e+04     3.7e+04\n",
      "cylindernumber_four                     -1.004e+04   5302.157     -1.893      0.309   -7.74e+04    5.73e+04\n",
      "cylindernumber_six                       -243.9680   3437.890     -0.071      0.955   -4.39e+04    4.34e+04\n",
      "cylindernumber_three                      -42.2504   2785.217     -0.015      0.990   -3.54e+04    3.53e+04\n",
      "cylindernumber_twelve                            0          0        nan        nan           0           0\n",
      "cylindernumber_two                       5189.9718   9356.760      0.555      0.678   -1.14e+05    1.24e+05\n",
      "fuelsystem_2bbl                          9775.5230   3192.898      3.062      0.201   -3.08e+04    5.03e+04\n",
      "fuelsystem_mfi                           6565.6071   3962.622      1.657      0.346   -4.38e+04    5.69e+04\n",
      "fuelsystem_mpfi                          9824.0202   2469.708      3.978      0.157   -2.16e+04    4.12e+04\n",
      "fuelsystem_spdi                          1.081e+04   3791.286      2.851      0.215   -3.74e+04     5.9e+04\n",
      "fuelsystem_spfi                          6336.1556   5306.308      1.194      0.444   -6.11e+04    7.38e+04\n",
      "==============================================================================\n",
      "Omnibus:                       18.733   Durbin-Watson:                   2.156\n",
      "Prob(Omnibus):                  0.000   Jarque-Bera (JB):               78.192\n",
      "Skew:                           0.171   Prob(JB):                     1.05e-17\n",
      "Kurtosis:                       6.594   Cond. No.                     1.36e+17\n",
      "==============================================================================\n",
      "\n",
      "Notes:\n",
      "[1] Standard Errors assume that the covariance matrix of the errors is correctly specified.\n",
      "[2] The input rank is higher than the number of observations.\n",
      "[3] The smallest eigenvalue is 2.58e-25. This might indicate that there are\n",
      "strong multicollinearity problems or that the design matrix is singular.\n"
     ]
    }
   ],
   "source": [
    "print(results_carprice.summary())"
   ]
  },
  {
   "cell_type": "markdown",
   "id": "285bfd5e",
   "metadata": {
    "id": "285bfd5e"
   },
   "source": [
    "### Re-training the Model"
   ]
  },
  {
   "cell_type": "code",
   "execution_count": 15,
   "id": "b43a5baf",
   "metadata": {
    "id": "b43a5baf"
   },
   "outputs": [],
   "source": [
    "Y_train_new = train_df.price\n",
    "X_train_new = stats.add_constant(train_df[['enginesize', \n",
    "                                    'stroke', \n",
    "                                    'peakrpm', \n",
    "                                    'fueltype_gas', \n",
    "                                    'carbody_hardtop', \n",
    "                                    'carbody_hatchback', \n",
    "                                    'enginelocation_rear',\n",
    "                                    'enginetype_ohc',\n",
    "                                    'cylindernumber_five',\n",
    "                                    'cylindernumber_four',\n",
    "                                    'cylindernumber_six']])"
   ]
  },
  {
   "cell_type": "code",
   "execution_count": 16,
   "id": "793787e0",
   "metadata": {
    "id": "793787e0"
   },
   "outputs": [],
   "source": [
    "model_carprice_new = stats.OLS(Y_train_new, X_train_new)\n",
    "results_carprice_new = model_carprice_new.fit()"
   ]
  },
  {
   "cell_type": "code",
   "execution_count": 17,
   "id": "8e582ba5",
   "metadata": {
    "id": "8e582ba5"
   },
   "outputs": [
    {
     "name": "stdout",
     "output_type": "stream",
     "text": [
      "                            OLS Regression Results                            \n",
      "==============================================================================\n",
      "Dep. Variable:                  price   R-squared:                       0.883\n",
      "Model:                            OLS   Adj. R-squared:                  0.873\n",
      "Method:                 Least Squares   F-statistic:                     90.22\n",
      "Date:                Mon, 26 Sep 2022   Prob (F-statistic):           8.02e-56\n",
      "Time:                        11:12:54   Log-Likelihood:                -1332.3\n",
      "No. Observations:                 144   AIC:                             2689.\n",
      "Df Residuals:                     132   BIC:                             2724.\n",
      "Df Model:                          11                                         \n",
      "Covariance Type:            nonrobust                                         \n",
      "=======================================================================================\n",
      "                          coef    std err          t      P>|t|      [0.025      0.975]\n",
      "---------------------------------------------------------------------------------------\n",
      "const                5265.5852   3987.241      1.321      0.189   -2621.572    1.32e+04\n",
      "enginesize            189.0048      9.626     19.634      0.000     169.963     208.046\n",
      "stroke              -5262.8712    906.489     -5.806      0.000   -7055.995   -3469.747\n",
      "peakrpm                 2.2863      0.569      4.015      0.000       1.160       3.413\n",
      "fueltype_gas        -3801.4946    899.508     -4.226      0.000   -5580.811   -2022.179\n",
      "carbody_hardtop     -3031.9986   1335.530     -2.270      0.025   -5673.808    -390.189\n",
      "carbody_hatchback   -1141.4341    508.488     -2.245      0.026   -2147.274    -135.595\n",
      "enginelocation_rear  9238.2627   3124.692      2.957      0.004    3057.313    1.54e+04\n",
      "enginetype_ohc       3345.6544    700.554      4.776      0.000    1959.888    4731.420\n",
      "cylindernumber_five -7047.7637   1662.390     -4.240      0.000   -1.03e+04   -3759.392\n",
      "cylindernumber_four -9839.9292   1252.118     -7.859      0.000   -1.23e+04   -7363.117\n",
      "cylindernumber_six  -8535.9291   1432.158     -5.960      0.000   -1.14e+04   -5702.979\n",
      "==============================================================================\n",
      "Omnibus:                       14.394   Durbin-Watson:                   1.845\n",
      "Prob(Omnibus):                  0.001   Jarque-Bera (JB):               36.424\n",
      "Skew:                           0.293   Prob(JB):                     1.23e-08\n",
      "Kurtosis:                       5.393   Cond. No.                     9.76e+04\n",
      "==============================================================================\n",
      "\n",
      "Notes:\n",
      "[1] Standard Errors assume that the covariance matrix of the errors is correctly specified.\n",
      "[2] The condition number is large, 9.76e+04. This might indicate that there are\n",
      "strong multicollinearity or other numerical problems.\n"
     ]
    }
   ],
   "source": [
    "print(results_carprice_new.summary())"
   ]
  },
  {
   "cell_type": "markdown",
   "id": "fj6vilWeHWua",
   "metadata": {
    "id": "fj6vilWeHWua"
   },
   "source": [
    "All of our independent variables now have p-values below 0.05 (except const which we are not concerned whether this is zero or not) and we have reduced the complexity of our model by reducing the number of variables."
   ]
  },
  {
   "cell_type": "code",
   "execution_count": 18,
   "id": "b6fdba80",
   "metadata": {
    "id": "b6fdba80"
   },
   "outputs": [],
   "source": [
    "Y_test_new = test_df.price\n",
    "X_test_new = test_df[X_train_new.columns]"
   ]
  },
  {
   "cell_type": "code",
   "execution_count": 19,
   "id": "ddc35709",
   "metadata": {
    "id": "ddc35709"
   },
   "outputs": [],
   "source": [
    "test_predictions_new = results_carprice_new.predict(X_test_new)"
   ]
  },
  {
   "cell_type": "code",
   "execution_count": 20,
   "id": "ffef9518",
   "metadata": {
    "id": "ffef9518"
   },
   "outputs": [
    {
     "data": {
      "image/png": "[encoded data removed]",
      "text/plain": [
       "<Figure size 432x288 with 1 Axes>"
      ]
     },
     "metadata": {
      "needs_background": "light"
     },
     "output_type": "display_data"
    }
   ],
   "source": [
    "plot.scatter(test_predictions_new, Y_test_new)\n",
    "plot.plot([5000, 50000], [5000, 50000], c='k', ls='--')\n",
    "plot.xlabel('Predicted Price [$]')\n",
    "plot.ylabel('Observed Price [$]')\n",
    "plot.show()"
   ]
  },
  {
   "cell_type": "markdown",
   "id": "056f7bc6",
   "metadata": {
    "id": "056f7bc6"
   },
   "source": [
    "### Coefficients"
   ]
  },
  {
   "cell_type": "markdown",
   "id": "gdZswg27Ha5P",
   "metadata": {
    "id": "gdZswg27Ha5P"
   },
   "source": [
    "The coefficients tell us how much the target variable changes for a one unit change in the corresponding independent variable when all the other independent variables are held fixed. We can get a measure of which independent variable contributes the most change to the target variable if we first scale all the independent variables to remove the units. This is known as standardization as we discussed in the theory lesson."
   ]
  },
  {
   "cell_type": "code",
   "execution_count": 22,
   "id": "c9c84bfd",
   "metadata": {
    "id": "c9c84bfd"
   },
   "outputs": [],
   "source": [
    "X_train_scale = ((X_train_new - X_train_new.mean())/X_train_new.std()).drop(columns=['const'])"
   ]
  },
  {
   "cell_type": "code",
   "execution_count": 23,
   "id": "bf44aa89",
   "metadata": {
    "id": "bf44aa89"
   },
   "outputs": [
    {
     "data": {
      "text/plain": [
       "enginesize             1.0\n",
       "stroke                 1.0\n",
       "peakrpm                1.0\n",
       "fueltype_gas           1.0\n",
       "carbody_hardtop        1.0\n",
       "carbody_hatchback      1.0\n",
       "enginelocation_rear    1.0\n",
       "enginetype_ohc         1.0\n",
       "cylindernumber_five    1.0\n",
       "cylindernumber_four    1.0\n",
       "cylindernumber_six     1.0\n",
       "dtype: float64"
      ]
     },
     "execution_count": 23,
     "metadata": {},
     "output_type": "execute_result"
    }
   ],
   "source": [
    "X_train_scale.std()"
   ]
  },
  {
   "cell_type": "code",
   "execution_count": 24,
   "id": "a382976b",
   "metadata": {
    "id": "a382976b"
   },
   "outputs": [
    {
     "data": {
      "text/plain": [
       "enginesize             0.0\n",
       "stroke                 0.0\n",
       "peakrpm                0.0\n",
       "fueltype_gas          -0.0\n",
       "carbody_hardtop        0.0\n",
       "carbody_hatchback      0.0\n",
       "enginelocation_rear    0.0\n",
       "enginetype_ohc         0.0\n",
       "cylindernumber_five   -0.0\n",
       "cylindernumber_four    0.0\n",
       "cylindernumber_six     0.0\n",
       "dtype: float64"
      ]
     },
     "execution_count": 24,
     "metadata": {},
     "output_type": "execute_result"
    }
   ],
   "source": [
    "X_train_scale.mean().round(2)"
   ]
  },
  {
   "cell_type": "markdown",
   "id": "XD1WDCrBHoJJ",
   "metadata": {
    "id": "XD1WDCrBHoJJ"
   },
   "source": [
    "As we can see the independent variables now all have mean zero and a standard deviation of one and will will therefore be able to compare coefficient values. We will now refit the model. Scikit-Learn also contains a function StandardScaler() which will perform this standardization."
   ]
  },
  {
   "cell_type": "code",
   "execution_count": 25,
   "id": "e0062b6a",
   "metadata": {
    "id": "e0062b6a"
   },
   "outputs": [],
   "source": [
    "X_train_scale = stats.add_constant(X_train_scale)"
   ]
  },
  {
   "cell_type": "code",
   "execution_count": 26,
   "id": "76832e92",
   "metadata": {
    "id": "76832e92"
   },
   "outputs": [],
   "source": [
    "model_carprice_scale = stats.OLS(Y_train_new, X_train_scale)\n",
    "results_carprice_scale = model_carprice_scale.fit()"
   ]
  },
  {
   "cell_type": "code",
   "execution_count": 27,
   "id": "8d8a2064",
   "metadata": {
    "id": "8d8a2064"
   },
   "outputs": [
    {
     "name": "stdout",
     "output_type": "stream",
     "text": [
      "                            OLS Regression Results                            \n",
      "==============================================================================\n",
      "Dep. Variable:                  price   R-squared:                       0.883\n",
      "Model:                            OLS   Adj. R-squared:                  0.873\n",
      "Method:                 Least Squares   F-statistic:                     90.22\n",
      "Date:                Mon, 26 Sep 2022   Prob (F-statistic):           8.02e-56\n",
      "Time:                        11:14:51   Log-Likelihood:                -1332.3\n",
      "No. Observations:                 144   AIC:                             2689.\n",
      "Df Residuals:                     132   BIC:                             2724.\n",
      "Df Model:                          11                                         \n",
      "Covariance Type:            nonrobust                                         \n",
      "=======================================================================================\n",
      "                          coef    std err          t      P>|t|      [0.025      0.975]\n",
      "---------------------------------------------------------------------------------------\n",
      "const                1.248e+04    219.527     56.871      0.000    1.21e+04    1.29e+04\n",
      "enginesize           7181.4117    365.758     19.634      0.000    6457.905    7904.918\n",
      "stroke              -1625.4214    279.966     -5.806      0.000   -2179.222   -1071.621\n",
      "peakrpm              1142.4913    284.554      4.015      0.000     579.615    1705.367\n",
      "fueltype_gas        -1165.3211    275.738     -4.226      0.000   -1710.758    -619.884\n",
      "carbody_hardtop      -607.9878    267.805     -2.270      0.025   -1137.734     -78.242\n",
      "carbody_hatchback    -545.3189    242.930     -2.245      0.026   -1025.858     -64.780\n",
      "enginelocation_rear   769.8552    260.391      2.957      0.004     254.776    1284.934\n",
      "enginetype_ohc       1440.0550    301.537      4.776      0.000     843.586    2036.524\n",
      "cylindernumber_five -1520.9375    358.751     -4.240      0.000   -2230.582    -811.293\n",
      "cylindernumber_four -4058.4741    516.435     -7.859      0.000   -5080.034   -3036.914\n",
      "cylindernumber_six  -2763.9352    463.733     -5.960      0.000   -3681.245   -1846.625\n",
      "==============================================================================\n",
      "Omnibus:                       14.394   Durbin-Watson:                   1.845\n",
      "Prob(Omnibus):                  0.001   Jarque-Bera (JB):               36.424\n",
      "Skew:                           0.293   Prob(JB):                     1.23e-08\n",
      "Kurtosis:                       5.393   Cond. No.                         5.61\n",
      "==============================================================================\n",
      "\n",
      "Notes:\n",
      "[1] Standard Errors assume that the covariance matrix of the errors is correctly specified.\n"
     ]
    }
   ],
   "source": [
    "print(results_carprice_scale.summary())"
   ]
  },
  {
   "cell_type": "code",
   "execution_count": 28,
   "id": "87ba2fea",
   "metadata": {
    "id": "87ba2fea"
   },
   "outputs": [
    {
     "data": {
      "text/plain": [
       "<AxesSubplot:>"
      ]
     },
     "execution_count": 28,
     "metadata": {},
     "output_type": "execute_result"
    },
    {
     "data": {
      "image/png": "[encoded data removed]",
      "text/plain": [
       "<Figure size 432x288 with 1 Axes>"
      ]
     },
     "metadata": {
      "needs_background": "light"
     },
     "output_type": "display_data"
    }
   ],
   "source": [
    "results_carprice_scale.params.drop(index=['const']).abs().sort_values(ascending=False).plot.bar()"
   ]
  },
  {
   "cell_type": "markdown",
   "id": "5178a0e4",
   "metadata": {
    "id": "5178a0e4"
   },
   "source": [
    "# Residuals and Residual Plots"
   ]
  },
  {
   "cell_type": "code",
   "execution_count": 29,
   "id": "ceae9b81",
   "metadata": {
    "id": "ceae9b81"
   },
   "outputs": [
    {
     "data": {
      "text/plain": [
       "120    -185.205528\n",
       "185   -1485.475419\n",
       "180   -3815.947168\n",
       "119     872.815707\n",
       "109    3492.490264\n",
       "          ...     \n",
       "86    -3061.198405\n",
       "193    2037.957826\n",
       "20    -1383.557493\n",
       "155    1392.163478\n",
       "10     2523.359750\n",
       "Length: 144, dtype: float64"
      ]
     },
     "execution_count": 29,
     "metadata": {},
     "output_type": "execute_result"
    }
   ],
   "source": [
    "results_carprice_new.resid"
   ]
  },
  {
   "cell_type": "markdown",
   "id": "XCD6irwFH2kl",
   "metadata": {
    "id": "XCD6irwFH2kl"
   },
   "source": [
    "We can then plot these residuals against our predicted values for the training data and observe if we see any non-random pattern in the data."
   ]
  },
  {
   "cell_type": "code",
   "execution_count": 30,
   "id": "78f00917",
   "metadata": {
    "id": "78f00917"
   },
   "outputs": [
    {
     "data": {
      "text/plain": [
       "[<matplotlib.lines.Line2D at 0x1a4ff63bd00>]"
      ]
     },
     "execution_count": 30,
     "metadata": {},
     "output_type": "execute_result"
    },
    {
     "data": {
      "image/png": "[encoded data removed]",
      "text/plain": [
       "<Figure size 432x288 with 1 Axes>"
      ]
     },
     "metadata": {
      "needs_background": "light"
     },
     "output_type": "display_data"
    }
   ],
   "source": [
    "plot.scatter(results_carprice_new.fittedvalues, results_carprice_new.resid)\n",
    "plot.plot([5000,50000], [0,0], c='k', ls='--')"
   ]
  },
  {
   "cell_type": "markdown",
   "id": "7648fa51",
   "metadata": {
    "id": "7648fa51"
   },
   "source": [
    "# Evaluating Linear Regression"
   ]
  },
  {
   "cell_type": "markdown",
   "id": "XbFZ452_H9mM",
   "metadata": {
    "id": "XbFZ452_H9mM"
   },
   "source": [
    "statsmodels allows us to easily calculate the metrics we have discussed (mean square error, root mean square error, mean absolute error,  R2  and adjusted  R2 ) We can calculate these for either/both the training data and the test data."
   ]
  },
  {
   "cell_type": "code",
   "execution_count": 31,
   "id": "34bdb81d",
   "metadata": {
    "id": "34bdb81d",
    "scrolled": true
   },
   "outputs": [
    {
     "name": "stdout",
     "output_type": "stream",
     "text": [
      "The training dataset mean square error is 6361335.8\n"
     ]
    }
   ],
   "source": [
    "train_mse = stats.tools.eval_measures.mse(Y_train_new, results_carprice_new.fittedvalues)\n",
    "print('The training dataset mean square error is {}'.format(train_mse.round(1)))"
   ]
  },
  {
   "cell_type": "code",
   "execution_count": 32,
   "id": "694451c8",
   "metadata": {
    "id": "694451c8"
   },
   "outputs": [
    {
     "name": "stdout",
     "output_type": "stream",
     "text": [
      "The training dataset root mean square error is 2522.2\n"
     ]
    }
   ],
   "source": [
    "train_rmse = stats.tools.eval_measures.rmse(Y_train_new, results_carprice_new.fittedvalues)\n",
    "print('The training dataset root mean square error is {}'.format(train_rmse.round(1)))"
   ]
  },
  {
   "cell_type": "code",
   "execution_count": 33,
   "id": "7718a85e",
   "metadata": {
    "id": "7718a85e"
   },
   "outputs": [
    {
     "name": "stdout",
     "output_type": "stream",
     "text": [
      "The training dataset mean absolute error is 1851.4\n"
     ]
    }
   ],
   "source": [
    "train_mae = stats.tools.eval_measures.meanabs(Y_train_new, results_carprice_new.fittedvalues)\n",
    "print('The training dataset mean absolute error is {}'.format(train_mae.round(1)))"
   ]
  },
  {
   "cell_type": "code",
   "execution_count": 34,
   "id": "91ae735f",
   "metadata": {
    "id": "91ae735f"
   },
   "outputs": [
    {
     "name": "stdout",
     "output_type": "stream",
     "text": [
      "The training dataset coefficient of determination is 0.883\n"
     ]
    }
   ],
   "source": [
    "train_r2 = results_carprice_new.rsquared\n",
    "print('The training dataset coefficient of determination is {}'.format(train_r2.round(3)))"
   ]
  },
  {
   "cell_type": "code",
   "execution_count": 35,
   "id": "eaf56881",
   "metadata": {
    "id": "eaf56881",
    "scrolled": true
   },
   "outputs": [
    {
     "name": "stdout",
     "output_type": "stream",
     "text": [
      "The training dataset adjusted coefficient of determination is 0.873\n"
     ]
    }
   ],
   "source": [
    "train_r2_adj = results_carprice_new.rsquared_adj\n",
    "print('The training dataset adjusted coefficient of determination is {}'.format(train_r2_adj.round(3)))"
   ]
  },
  {
   "cell_type": "markdown",
   "id": "a0f8b771",
   "metadata": {
    "id": "a0f8b771"
   },
   "source": [
    "### Scikit-Learn"
   ]
  },
  {
   "cell_type": "code",
   "execution_count": 36,
   "id": "49c3fbd2",
   "metadata": {
    "id": "49c3fbd2"
   },
   "outputs": [],
   "source": [
    "from sklearn.linear_model import LinearRegression\n",
    "from sklearn.model_selection import train_test_split"
   ]
  },
  {
   "cell_type": "code",
   "execution_count": 37,
   "id": "e9161357",
   "metadata": {
    "id": "e9161357"
   },
   "outputs": [],
   "source": [
    "Y = carprice_df.price\n",
    "X = carprice_df[['enginesize', \n",
    "                 'stroke', \n",
    "                 'peakrpm', \n",
    "                 'fueltype_gas', \n",
    "                 'carbody_hardtop', \n",
    "                 'carbody_hatchback', \n",
    "                 'enginelocation_rear',\n",
    "                 'enginetype_ohc',\n",
    "                 'cylindernumber_five',\n",
    "                 'cylindernumber_four',\n",
    "                 'cylindernumber_six']]"
   ]
  },
  {
   "cell_type": "code",
   "execution_count": 38,
   "id": "42830e76",
   "metadata": {
    "id": "42830e76"
   },
   "outputs": [],
   "source": [
    "sk_X_train, sk_X_test, sk_Y_train, sk_Y_test = train_test_split(X, Y, test_size=0.3, random_state=97)"
   ]
  },
  {
   "cell_type": "code",
   "execution_count": 39,
   "id": "141cf3ea",
   "metadata": {
    "id": "141cf3ea",
    "outputId": "6f3aa3b4-5d4a-4b27-abd3-5e1341e7d64d"
   },
   "outputs": [
    {
     "data": {
      "text/plain": [
       "LinearRegression()"
      ]
     },
     "execution_count": 39,
     "metadata": {},
     "output_type": "execute_result"
    }
   ],
   "source": [
    "regressor = LinearRegression()  \n",
    "regressor.fit(sk_X_train, sk_Y_train)"
   ]
  },
  {
   "cell_type": "code",
   "execution_count": 40,
   "id": "9ec1186d",
   "metadata": {
    "id": "9ec1186d"
   },
   "outputs": [],
   "source": [
    "sk_intercept_carprice = regressor.intercept_\n",
    "sk_engsize_coeffs = regressor.coef_\n",
    "sk_ssr_carprice = np.sum((sk_Y_train-regressor.predict(sk_X_train))**2)"
   ]
  },
  {
   "cell_type": "code",
   "execution_count": 41,
   "id": "dd44fa68",
   "metadata": {
    "id": "dd44fa68"
   },
   "outputs": [],
   "source": [
    "sk_train_predictions = regressor.predict(sk_X_train)\n",
    "sk_test_predictions = regressor.predict(sk_X_test)"
   ]
  },
  {
   "cell_type": "code",
   "execution_count": 42,
   "id": "66e0eafe",
   "metadata": {
    "id": "66e0eafe"
   },
   "outputs": [],
   "source": [
    "from sklearn.metrics import mean_absolute_error, mean_squared_error, r2_score"
   ]
  },
  {
   "cell_type": "code",
   "execution_count": 43,
   "id": "d68b2213",
   "metadata": {
    "id": "d68b2213",
    "outputId": "45ee9ee5-36f0-4ab8-d445-457ced080d75"
   },
   "outputs": [
    {
     "name": "stdout",
     "output_type": "stream",
     "text": [
      "The training dataset mean square error is 6501288.6\n"
     ]
    }
   ],
   "source": [
    "sk_train_mse = mean_squared_error(sk_Y_train, sk_train_predictions)\n",
    "print('The training dataset mean square error is {}'.format(sk_train_mse.round(1)))"
   ]
  },
  {
   "cell_type": "code",
   "execution_count": 44,
   "id": "5c87d194",
   "metadata": {
    "id": "5c87d194",
    "outputId": "fd77df70-f78b-45cf-a09d-bcb8aee6b45e"
   },
   "outputs": [
    {
     "name": "stdout",
     "output_type": "stream",
     "text": [
      "The training dataset root mean square error is 2549.8\n"
     ]
    }
   ],
   "source": [
    "sk_train_rmse = np.sqrt(sk_train_mse)\n",
    "print('The training dataset root mean square error is {}'.format(sk_train_rmse.round(1)))"
   ]
  },
  {
   "cell_type": "code",
   "execution_count": 45,
   "id": "9d90bdeb",
   "metadata": {
    "id": "9d90bdeb",
    "outputId": "7c0b9f6f-2d03-44ff-e526-61091c8eceea"
   },
   "outputs": [
    {
     "name": "stdout",
     "output_type": "stream",
     "text": [
      "The training dataset mean absolute error is 1904.1\n"
     ]
    }
   ],
   "source": [
    "sk_train_mae = mean_absolute_error(sk_Y_train, sk_train_predictions)\n",
    "print('The training dataset mean absolute error is {}'.format(sk_train_mae.round(1)))"
   ]
  },
  {
   "cell_type": "code",
   "execution_count": 46,
   "id": "e96ddd58",
   "metadata": {
    "id": "e96ddd58",
    "outputId": "88186f70-06ce-4c7e-d522-4f4ac7cd624f"
   },
   "outputs": [
    {
     "name": "stdout",
     "output_type": "stream",
     "text": [
      "The training dataset coefficient of determination is 0.872\n"
     ]
    }
   ],
   "source": [
    "sk_train_r2 = r2_score(sk_Y_train, sk_train_predictions)\n",
    "print('The training dataset coefficient of determination is {}'.format(sk_train_r2.round(3)))"
   ]
  },
  {
   "cell_type": "code",
   "execution_count": 47,
   "id": "0fe536ea",
   "metadata": {
    "id": "0fe536ea",
    "outputId": "75562baf-6724-4ab6-c391-1b49b1a48b01"
   },
   "outputs": [
    {
     "name": "stdout",
     "output_type": "stream",
     "text": [
      "The training dataset adjusted coefficient of determination is 0.861\n"
     ]
    }
   ],
   "source": [
    "n = sk_X_train.shape[0]\n",
    "p = sk_X_train.shape[1]\n",
    "sk_train_r2_adj = 1-(1-sk_train_r2)*(n-1)/(n-p-1)\n",
    "print('The training dataset adjusted coefficient of determination is {}'.format(sk_train_r2_adj.round(3)))"
   ]
  },
  {
   "cell_type": "markdown",
   "id": "9dcaf7ff",
   "metadata": {
    "id": "9dcaf7ff"
   },
   "source": [
    "### Test Data"
   ]
  },
  {
   "cell_type": "code",
   "execution_count": 48,
   "id": "0bb39f30",
   "metadata": {
    "id": "0bb39f30",
    "outputId": "d9b32c65-cf86-4df0-8438-cc60ec77244a"
   },
   "outputs": [
    {
     "name": "stdout",
     "output_type": "stream",
     "text": [
      "The test dataset coefficient of determination is 0.837\n"
     ]
    }
   ],
   "source": [
    "sk_test_r2 = r2_score(sk_Y_test, sk_test_predictions)\n",
    "print('The test dataset coefficient of determination is {}'.format(sk_test_r2.round(3)))"
   ]
  }
 ],
 "metadata": {
  "colab": {
   "name": "Evaluating Linear Regression - Blank.ipynb",
   "provenance": []
  },
  "kernelspec": {
   "display_name": "Python 3 (ipykernel)",
   "language": "python",
   "name": "python3"
  },
  "language_info": {
   "codemirror_mode": {
    "name": "ipython",
    "version": 3
   },
   "file_extension": ".py",
   "mimetype": "text/x-python",
   "name": "python",
   "nbconvert_exporter": "python",
   "pygments_lexer": "ipython3",
   "version": "3.9.12"
  }
 },
 "nbformat": 4,
 "nbformat_minor": 5
}
