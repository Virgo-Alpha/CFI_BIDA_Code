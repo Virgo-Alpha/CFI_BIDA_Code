{
 "cells": [
  {
   "cell_type": "markdown",
   "id": "e1f4d7ef",
   "metadata": {
    "id": "e1f4d7ef"
   },
   "source": [
    "## Simple Linear Regression Ex 2: Salary Data\n",
    "\n",
    "In this exercise we will repeat our analysis from the previous exercise this time using data to predict an employee's salary from their years of experience. This time we will also use the scikit-learn pacakge to perform the analysis.\n",
    "\n",
    "First we import our required packages and dataset into the notebook."
   ]
  },
  {
   "cell_type": "code",
   "execution_count": 1,
   "id": "ea562c9d",
   "metadata": {
    "id": "ea562c9d"
   },
   "outputs": [],
   "source": [
    "import pandas as pd\n",
    "import matplotlib.pyplot as plot\n",
    "import statsmodels.api as stats\n",
    "import numpy as np"
   ]
  },
  {
   "cell_type": "code",
   "execution_count": 3,
   "id": "309acaba",
   "metadata": {
    "id": "309acaba"
   },
   "outputs": [],
   "source": [
    "salary_df = pd.read_csv('Salary_data.csv')"
   ]
  },
  {
   "cell_type": "markdown",
   "id": "7d8a47d4",
   "metadata": {
    "id": "7d8a47d4"
   },
   "source": [
    "### Assessing the Data"
   ]
  },
  {
   "cell_type": "markdown",
   "id": "b5f07ffa",
   "metadata": {
    "id": "b5f07ffa"
   },
   "source": [
    "We again take a look at the dimensions of the data."
   ]
  },
  {
   "cell_type": "code",
   "execution_count": 4,
   "id": "7bfb5757",
   "metadata": {
    "executionInfo": {
     "elapsed": 10,
     "status": "ok",
     "timestamp": 1641344593648,
     "user": {
      "displayName": "Sebastian Taylor",
      "photoUrl": "https://lh3.googleusercontent.com/a-/AOh14GhOcmzOPJx6I8UN-8tz51JIFUd2MAsdY6ImH3TN=s64",
      "userId": "05672563183798441375"
     },
     "user_tz": 480
    },
    "id": "7bfb5757"
   },
   "outputs": [
    {
     "data": {
      "text/plain": [
       "(30, 2)"
      ]
     },
     "execution_count": 4,
     "metadata": {},
     "output_type": "execute_result"
    }
   ],
   "source": [
    "salary_df.shape"
   ]
  },
  {
   "cell_type": "code",
   "execution_count": 5,
   "id": "38f7d9e2",
   "metadata": {
    "executionInfo": {
     "elapsed": 9,
     "status": "ok",
     "timestamp": 1641344593650,
     "user": {
      "displayName": "Sebastian Taylor",
      "photoUrl": "https://lh3.googleusercontent.com/a-/AOh14GhOcmzOPJx6I8UN-8tz51JIFUd2MAsdY6ImH3TN=s64",
      "userId": "05672563183798441375"
     },
     "user_tz": 480
    },
    "id": "38f7d9e2"
   },
   "outputs": [
    {
     "data": {
      "text/html": [
       "<div>\n",
       "<style scoped>\n",
       "    .dataframe tbody tr th:only-of-type {\n",
       "        vertical-align: middle;\n",
       "    }\n",
       "\n",
       "    .dataframe tbody tr th {\n",
       "        vertical-align: top;\n",
       "    }\n",
       "\n",
       "    .dataframe thead th {\n",
       "        text-align: right;\n",
       "    }\n",
       "</style>\n",
       "<table border=\"1\" class=\"dataframe\">\n",
       "  <thead>\n",
       "    <tr style=\"text-align: right;\">\n",
       "      <th></th>\n",
       "      <th>YearsExperience</th>\n",
       "      <th>Salary</th>\n",
       "    </tr>\n",
       "  </thead>\n",
       "  <tbody>\n",
       "    <tr>\n",
       "      <th>0</th>\n",
       "      <td>1.1</td>\n",
       "      <td>39343.0</td>\n",
       "    </tr>\n",
       "    <tr>\n",
       "      <th>1</th>\n",
       "      <td>1.3</td>\n",
       "      <td>46205.0</td>\n",
       "    </tr>\n",
       "    <tr>\n",
       "      <th>2</th>\n",
       "      <td>1.5</td>\n",
       "      <td>37731.0</td>\n",
       "    </tr>\n",
       "    <tr>\n",
       "      <th>3</th>\n",
       "      <td>2.0</td>\n",
       "      <td>43525.0</td>\n",
       "    </tr>\n",
       "    <tr>\n",
       "      <th>4</th>\n",
       "      <td>2.2</td>\n",
       "      <td>39891.0</td>\n",
       "    </tr>\n",
       "  </tbody>\n",
       "</table>\n",
       "</div>"
      ],
      "text/plain": [
       "   YearsExperience   Salary\n",
       "0              1.1  39343.0\n",
       "1              1.3  46205.0\n",
       "2              1.5  37731.0\n",
       "3              2.0  43525.0\n",
       "4              2.2  39891.0"
      ]
     },
     "execution_count": 5,
     "metadata": {},
     "output_type": "execute_result"
    }
   ],
   "source": [
    "salary_df.head()"
   ]
  },
  {
   "cell_type": "markdown",
   "id": "ecca875a",
   "metadata": {
    "id": "ecca875a"
   },
   "source": [
    "### Visualising the Data"
   ]
  },
  {
   "cell_type": "code",
   "execution_count": 6,
   "id": "0e10c0b2",
   "metadata": {
    "executionInfo": {
     "elapsed": 241,
     "status": "ok",
     "timestamp": 1641344612947,
     "user": {
      "displayName": "Sebastian Taylor",
      "photoUrl": "https://lh3.googleusercontent.com/a-/AOh14GhOcmzOPJx6I8UN-8tz51JIFUd2MAsdY6ImH3TN=s64",
      "userId": "05672563183798441375"
     },
     "user_tz": 480
    },
    "id": "0e10c0b2"
   },
   "outputs": [
    {
     "data": {
      "image/png": "[encoded data removed]",
      "text/plain": [
       "<Figure size 432x288 with 1 Axes>"
      ]
     },
     "metadata": {
      "needs_background": "light"
     },
     "output_type": "display_data"
    }
   ],
   "source": [
    "plot.scatter(salary_df.YearsExperience, salary_df.Salary)\n",
    "plot.xlabel('Experience [Years]')\n",
    "plot.ylabel('Salary [$]')\n",
    "plot.show()"
   ]
  },
  {
   "cell_type": "markdown",
   "id": "e80f1a79",
   "metadata": {
    "id": "e80f1a79"
   },
   "source": [
    "### Fitting the Linear Regression Model"
   ]
  },
  {
   "cell_type": "markdown",
   "id": "2c2e4980",
   "metadata": {
    "id": "2c2e4980"
   },
   "source": [
    "We separate the independent variable, YearsExperience and the target variable, Salary before fitting our model."
   ]
  },
  {
   "cell_type": "code",
   "execution_count": 7,
   "id": "aebd164e",
   "metadata": {
    "id": "aebd164e"
   },
   "outputs": [],
   "source": [
    "Y_salary = salary_df.Salary\n",
    "X_salary = stats.add_constant(salary_df.YearsExperience)"
   ]
  },
  {
   "cell_type": "code",
   "execution_count": 8,
   "id": "a96a7d1d",
   "metadata": {
    "id": "a96a7d1d"
   },
   "outputs": [],
   "source": [
    "model_salary = stats.OLS(Y_salary, X_salary)\n",
    "results_salary = model_salary.fit()"
   ]
  },
  {
   "cell_type": "markdown",
   "id": "5e41d794",
   "metadata": {
    "id": "5e41d794"
   },
   "source": [
    "Finally we can write out our results and plot these."
   ]
  },
  {
   "cell_type": "code",
   "execution_count": 9,
   "id": "185444a0",
   "metadata": {
    "executionInfo": {
     "elapsed": 157,
     "status": "ok",
     "timestamp": 1641344725196,
     "user": {
      "displayName": "Sebastian Taylor",
      "photoUrl": "https://lh3.googleusercontent.com/a-/AOh14GhOcmzOPJx6I8UN-8tz51JIFUd2MAsdY6ImH3TN=s64",
      "userId": "05672563183798441375"
     },
     "user_tz": 480
    },
    "id": "185444a0"
   },
   "outputs": [
    {
     "name": "stdout",
     "output_type": "stream",
     "text": [
      "                            OLS Regression Results                            \n",
      "==============================================================================\n",
      "Dep. Variable:                 Salary   R-squared:                       0.957\n",
      "Model:                            OLS   Adj. R-squared:                  0.955\n",
      "Method:                 Least Squares   F-statistic:                     622.5\n",
      "Date:                Mon, 26 Sep 2022   Prob (F-statistic):           1.14e-20\n",
      "Time:                        08:56:14   Log-Likelihood:                -301.44\n",
      "No. Observations:                  30   AIC:                             606.9\n",
      "Df Residuals:                      28   BIC:                             609.7\n",
      "Df Model:                           1                                         \n",
      "Covariance Type:            nonrobust                                         \n",
      "===================================================================================\n",
      "                      coef    std err          t      P>|t|      [0.025      0.975]\n",
      "-----------------------------------------------------------------------------------\n",
      "const            2.579e+04   2273.053     11.347      0.000    2.11e+04    3.04e+04\n",
      "YearsExperience  9449.9623    378.755     24.950      0.000    8674.119    1.02e+04\n",
      "==============================================================================\n",
      "Omnibus:                        2.140   Durbin-Watson:                   1.648\n",
      "Prob(Omnibus):                  0.343   Jarque-Bera (JB):                1.569\n",
      "Skew:                           0.363   Prob(JB):                        0.456\n",
      "Kurtosis:                       2.147   Cond. No.                         13.2\n",
      "==============================================================================\n",
      "\n",
      "Notes:\n",
      "[1] Standard Errors assume that the covariance matrix of the errors is correctly specified.\n"
     ]
    }
   ],
   "source": [
    "print(results_salary.summary())"
   ]
  },
  {
   "cell_type": "code",
   "execution_count": 14,
   "id": "c0ed910f",
   "metadata": {
    "executionInfo": {
     "elapsed": 165,
     "status": "ok",
     "timestamp": 1641344762035,
     "user": {
      "displayName": "Sebastian Taylor",
      "photoUrl": "https://lh3.googleusercontent.com/a-/AOh14GhOcmzOPJx6I8UN-8tz51JIFUd2MAsdY6ImH3TN=s64",
      "userId": "05672563183798441375"
     },
     "user_tz": 480
    },
    "id": "c0ed910f"
   },
   "outputs": [
    {
     "name": "stdout",
     "output_type": "stream",
     "text": [
      "The intercept value is 25792.200\n",
      "The coefficient (slope) for the years of experience independent variable is 9449.962\n",
      "The sum of square residuals is 938128551.7\n"
     ]
    }
   ],
   "source": [
    "intercept_salary = results_salary.params[0]\n",
    "experience_coeff = results_salary.params[1]\n",
    "ssr_salary = results_salary.ssr\n",
    "\n",
    "print('The intercept value is {:.3f}'.format(intercept_salary))\n",
    "print('The coefficient (slope) for the years of experience independent variable is {:.3f}'.format(experience_coeff))\n",
    "print('The sum of square residuals is {:.1f}'.format(ssr_salary))"
   ]
  },
  {
   "cell_type": "markdown",
   "id": "0e47401f",
   "metadata": {
    "id": "0e47401f"
   },
   "source": [
    "### Plotting Results"
   ]
  },
  {
   "cell_type": "code",
   "execution_count": 16,
   "id": "d02b9834",
   "metadata": {
    "executionInfo": {
     "elapsed": 176,
     "status": "ok",
     "timestamp": 1641344945702,
     "user": {
      "displayName": "Sebastian Taylor",
      "photoUrl": "https://lh3.googleusercontent.com/a-/AOh14GhOcmzOPJx6I8UN-8tz51JIFUd2MAsdY6ImH3TN=s64",
      "userId": "05672563183798441375"
     },
     "user_tz": 480
    },
    "id": "d02b9834"
   },
   "outputs": [
    {
     "data": {
      "image/png": "[encoded data removed]",
      "text/plain": [
       "<Figure size 432x288 with 1 Axes>"
      ]
     },
     "metadata": {
      "needs_background": "light"
     },
     "output_type": "display_data"
    }
   ],
   "source": [
    "x_synthetic = np.linspace(0, salary_df.YearsExperience.max(), 50)\n",
    "y_pred_salary = x_synthetic * experience_coeff + intercept_salary\n",
    "plot.scatter(salary_df.YearsExperience, salary_df.Salary, label='Observed')\n",
    "plot.plot(x_synthetic, y_pred_salary, color='k', ls='--', label = 'Model')\n",
    "plot.xlabel('Experience [Years]')\n",
    "plot.ylabel('Salary [$]')\n",
    "plot.legend()\n",
    "plot.show()"
   ]
  },
  {
   "cell_type": "markdown",
   "id": "e3333c84",
   "metadata": {
    "id": "e3333c84"
   },
   "source": [
    "## Scikit-Learn "
   ]
  },
  {
   "cell_type": "markdown",
   "id": "4b74dc91",
   "metadata": {
    "id": "4b74dc91"
   },
   "source": [
    "We will now perform the same process, this time using the Scikit-learn package. At this stage we only need to import the LinearRegression class from the linear_model module within the package."
   ]
  },
  {
   "cell_type": "code",
   "execution_count": null,
   "id": "a4bf214c",
   "metadata": {
    "id": "a4bf214c"
   },
   "outputs": [],
   "source": [
    "from sklearn.linear_model import LinearRegression"
   ]
  },
  {
   "cell_type": "markdown",
   "id": "c66e1c9d",
   "metadata": {
    "id": "c66e1c9d"
   },
   "source": [
    "We will reset our independent variable X and target variable Y as we don't need a constant column here as we did using statsmodels."
   ]
  },
  {
   "cell_type": "code",
   "execution_count": null,
   "id": "80d580fc",
   "metadata": {
    "id": "80d580fc"
   },
   "outputs": [],
   "source": [
    "X_salary = salary_df.YearsExperience\n",
    "Y_salary = salary_df.Salary"
   ]
  },
  {
   "cell_type": "markdown",
   "id": "c272b94a",
   "metadata": {
    "id": "c272b94a"
   },
   "source": [
    "We do need to reshape our independent variable to have a the correct format for scikit-learn however as the LinearRegression class works on 2D X arrays but here we only have a single independent variable. We do this by first converting the pandas series to a numpy array using the [series.values](https://pandas.pydata.org/docs/reference/api/pandas.Series.values.html) method before using the [ndarray.reshape](https://numpy.org/doc/stable/reference/generated/numpy.ndarray.reshape.html#numpy.ndarray.reshape) method in the following way to reshape our array to the desired form. "
   ]
  },
  {
   "cell_type": "code",
   "execution_count": null,
   "id": "7dc649af",
   "metadata": {
    "id": "7dc649af",
    "outputId": "5558f22c-aeb1-4ed2-ab57-793f0e437267"
   },
   "outputs": [
    {
     "data": {
      "text/plain": [
       "(30,)"
      ]
     },
     "execution_count": 13,
     "metadata": {},
     "output_type": "execute_result"
    }
   ],
   "source": [
    "X_salary.shape"
   ]
  },
  {
   "cell_type": "code",
   "execution_count": null,
   "id": "5d2ae23a",
   "metadata": {
    "id": "5d2ae23a"
   },
   "outputs": [],
   "source": [
    "X_salary = X_salary.values.reshape(-1, 1)"
   ]
  },
  {
   "cell_type": "code",
   "execution_count": null,
   "id": "445d2641",
   "metadata": {
    "id": "445d2641",
    "outputId": "5a5c30c1-d29f-4df6-cc92-b5b8d9a22605"
   },
   "outputs": [
    {
     "data": {
      "text/plain": [
       "(30, 1)"
      ]
     },
     "execution_count": 15,
     "metadata": {},
     "output_type": "execute_result"
    }
   ],
   "source": [
    "X_salary.shape"
   ]
  },
  {
   "cell_type": "markdown",
   "id": "06ddfb27",
   "metadata": {
    "id": "06ddfb27"
   },
   "source": [
    "We now need to initialize an instance of the [LinearRegression](https://scikit-learn.org/stable/modules/generated/sklearn.linear_model.LinearRegression.html) class, which we name regressor. We can then simply call the .fit() method with our independent variable and target variable as arguments to fit our model. Our fully fitted model is then contained within the regressor class instance. "
   ]
  },
  {
   "cell_type": "code",
   "execution_count": null,
   "id": "b0c8506b",
   "metadata": {
    "id": "b0c8506b",
    "outputId": "3d9defd3-be9d-44b1-e7f9-07dd164a9c92",
    "scrolled": true
   },
   "outputs": [
    {
     "data": {
      "text/plain": [
       "LinearRegression()"
      ]
     },
     "execution_count": 16,
     "metadata": {},
     "output_type": "execute_result"
    }
   ],
   "source": [
    "regressor = LinearRegression()  \n",
    "regressor.fit(X_salary, Y_salary)"
   ]
  },
  {
   "cell_type": "markdown",
   "id": "1d63f57b",
   "metadata": {
    "id": "1d63f57b"
   },
   "source": [
    "We can obtain our intercept and slope from the class attributes .intercept_ and .coef_. We need to manually calculate our sum of square error using the .predict() method to get our predicted Y values from our X values. We then subtract these from their observed values, square them and sum all of them using the function [np.sum](https://numpy.org/doc/stable/reference/generated/numpy.sum.html).\n",
    " "
   ]
  },
  {
   "cell_type": "code",
   "execution_count": null,
   "id": "ea128d09",
   "metadata": {
    "id": "ea128d09"
   },
   "outputs": [],
   "source": [
    "sk_intercept_salary = regressor.intercept_\n",
    "sk_experience_coeff = regressor.coef_[0]\n",
    "sk_ssr_salary = np.sum((Y_salary-regressor.predict(X_salary))**2)"
   ]
  },
  {
   "cell_type": "code",
   "execution_count": null,
   "id": "6a98f5c8",
   "metadata": {
    "id": "6a98f5c8",
    "outputId": "03d3ce9f-6dfa-468a-8ea7-b4628f4ed884"
   },
   "outputs": [
    {
     "name": "stdout",
     "output_type": "stream",
     "text": [
      "25792.20019866871\n",
      "9449.962321455074\n"
     ]
    }
   ],
   "source": [
    "print(sk_intercept_salary)\n",
    "print(sk_experience_coeff)"
   ]
  },
  {
   "cell_type": "code",
   "execution_count": null,
   "id": "623de5eb",
   "metadata": {
    "id": "623de5eb",
    "outputId": "f504385d-d479-407d-80a4-03a52fb56600"
   },
   "outputs": [
    {
     "name": "stdout",
     "output_type": "stream",
     "text": [
      "Using Scikit-learn...\n",
      "The intercept value is 25792.200\n",
      "The coefficient (slope) for the years of experience independent variable is 9449.962\n",
      "The sum of square residuals is 938128551.7\n"
     ]
    }
   ],
   "source": [
    "print('Using Scikit-learn...')\n",
    "print('The intercept value is {:.3f}'.format(sk_intercept_salary))\n",
    "print('The coefficient (slope) for the years of experience independent variable is {:.3f}'.format(sk_experience_coeff))\n",
    "print('The sum of square residuals is {:.1f}'.format(sk_ssr_salary))"
   ]
  },
  {
   "cell_type": "code",
   "execution_count": null,
   "id": "06ed9af2",
   "metadata": {
    "id": "06ed9af2",
    "outputId": "67fe6c8a-a0c8-4bb3-8a9b-a9d4a39698fd"
   },
   "outputs": [
    {
     "data": {
      "image/png": "[encoded data removed]",
      "text/plain": [
       "<Figure size 432x288 with 1 Axes>"
      ]
     },
     "metadata": {
      "needs_background": "light"
     },
     "output_type": "display_data"
    }
   ],
   "source": [
    "x_synthetic = np.linspace(0,salary_df.YearsExperience.max(), 50)\n",
    "sk_y_pred_salary = sk_experience_coeff*x_synthetic + sk_intercept_salary\n",
    "plot.scatter(salary_df.YearsExperience, salary_df.Salary, label='Observed')\n",
    "plot.plot(x_synthetic, sk_y_pred_salary, color='k', ls='--', label='Model')\n",
    "plot.xlabel('Experience [Years]')\n",
    "plot.ylabel('Salary [$]')\n",
    "plot.legend()\n",
    "plot.show()"
   ]
  },
  {
   "cell_type": "markdown",
   "id": "92bcf049",
   "metadata": {
    "id": "92bcf049"
   },
   "source": [
    "These are the same results as we got using the statsmodels package which is what we would expect since linear regression simply follows the ordinary least squares algorithm we have dicussed in previous lessons."
   ]
  }
 ],
 "metadata": {
  "colab": {
   "name": "SimpleLinearRegression-Python-Ex2 Blank.ipynb",
   "provenance": []
  },
  "kernelspec": {
   "display_name": "Python 3 (ipykernel)",
   "language": "python",
   "name": "python3"
  },
  "language_info": {
   "codemirror_mode": {
    "name": "ipython",
    "version": 3
   },
   "file_extension": ".py",
   "mimetype": "text/x-python",
   "name": "python",
   "nbconvert_exporter": "python",
   "pygments_lexer": "ipython3",
   "version": "3.9.12"
  }
 },
 "nbformat": 4,
 "nbformat_minor": 5
}
