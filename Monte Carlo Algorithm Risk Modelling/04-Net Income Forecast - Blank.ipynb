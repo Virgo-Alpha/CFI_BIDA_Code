{
 "cells": [
  {
   "cell_type": "markdown",
   "metadata": {},
   "source": [
    "# Net Income Forecast Model"
   ]
  },
  {
   "cell_type": "markdown",
   "metadata": {},
   "source": [
    "### Import Packages"
   ]
  },
  {
   "cell_type": "code",
   "execution_count": 1,
   "metadata": {},
   "outputs": [],
   "source": [
    "import numpy as np\n",
    "import matplotlib.pyplot as plt"
   ]
  },
  {
   "cell_type": "markdown",
   "metadata": {},
   "source": [
    "### Distributions - Assumptions"
   ]
  },
  {
   "cell_type": "code",
   "execution_count": 2,
   "metadata": {},
   "outputs": [],
   "source": [
    "# Create variables for assumptions \n",
    "sales_mean = 50\n",
    "sales_std = 5\n",
    "COGS_mean = 0.15\n",
    "COGS_std = 0.1"
   ]
  },
  {
   "cell_type": "markdown",
   "metadata": {},
   "source": [
    "### Simulations - Simulate Sales, COGS, and Net Income"
   ]
  },
  {
   "cell_type": "code",
   "execution_count": 3,
   "metadata": {},
   "outputs": [
    {
     "name": "stdout",
     "output_type": "stream",
     "text": [
      "[43.59357071 42.55554181 60.16905623 ... 53.66387618 47.20148274\n",
      " 43.81669174]\n",
      "mean: 50.06072010643985\n",
      "std: 5.051604348044135\n"
     ]
    }
   ],
   "source": [
    "# Generate sales samples \n",
    "simulations = 10000\n",
    "sales_sims = np.random.normal(sales_mean, sales_std, simulations)\n",
    "\n",
    "print(sales_sims)\n",
    "print(\"mean:\", np.mean(sales_sims))\n",
    "print(\"std:\", np.std(sales_sims))"
   ]
  },
  {
   "cell_type": "code",
   "execution_count": 4,
   "metadata": {},
   "outputs": [],
   "source": [
    "# Generate COGS samples\n",
    "COGS_sims = - (sales_sims * np.random.normal(COGS_mean,COGS_std))\n",
    "\n",
    "# Generate net income simulations\n",
    "profit_sims = sales_sims + COGS_sims"
   ]
  },
  {
   "cell_type": "markdown",
   "metadata": {},
   "source": [
    "### Quantifications - Examine the Worst, Average, Best scenarios and the Probability Distribution"
   ]
  },
  {
   "cell_type": "code",
   "execution_count": 5,
   "metadata": {},
   "outputs": [
    {
     "name": "stdout",
     "output_type": "stream",
     "text": [
      "Worst case: 22.141930121059666\n",
      "Average case: 36.99225969985369\n",
      "Best case: 51.160122134082584\n"
     ]
    }
   ],
   "source": [
    "# Examine the worst, average, and best cases\n",
    "print(\"Worst case:\", min(profit_sims))\n",
    "print(\"Average case:\", profit_sims.mean())\n",
    "print(\"Best case:\", max(profit_sims))"
   ]
  },
  {
   "cell_type": "code",
   "execution_count": 6,
   "metadata": {},
   "outputs": [
    {
     "data": {
      "image/png": "[encoded data removed]",
      "text/plain": [
       "<Figure size 432x288 with 1 Axes>"
      ]
     },
     "metadata": {
      "needs_background": "light"
     },
     "output_type": "display_data"
    },
    {
     "name": "stdout",
     "output_type": "stream",
     "text": [
      "68% profit range: $33.26 and $40.73\n",
      "95% profit range: $29.53 and $44.46\n"
     ]
    }
   ],
   "source": [
    "# Set up confidence intervals\n",
    "upper68 = profit_sims.mean()+profit_sims.std()\n",
    "lower68 = profit_sims.mean()-profit_sims.std()\n",
    "upper95 = profit_sims.mean()+profit_sims.std()*2\n",
    "lower95 = profit_sims.mean()-profit_sims.std()*2\n",
    "\n",
    "# Plot the probability distribution\n",
    "plt.hist(profit_sims, bins = 20);\n",
    "plt.axvline(upper68, color = 'k', linestyle='dashed', linewidth=1)\n",
    "plt.axvline(lower68, color = 'k', linestyle='dashed', linewidth=1)\n",
    "plt.axvline(upper95, color = 'k', linestyle='dashed', linewidth=1)\n",
    "plt.axvline(lower95, color = 'k', linestyle='dashed', linewidth=1)\n",
    "plt.show()\n",
    "\n",
    "# Print out confidence intervals\n",
    "print(f\"68% profit range: ${round(lower68,2)} and ${round(upper68,2)}\")\n",
    "print(f\"95% profit range: ${round(lower95,2)} and ${round(upper95,2)}\")"
   ]
  }
 ],
 "metadata": {
  "kernelspec": {
   "display_name": "Python 3 (ipykernel)",
   "language": "python",
   "name": "python3"
  },
  "language_info": {
   "codemirror_mode": {
    "name": "ipython",
    "version": 3
   },
   "file_extension": ".py",
   "mimetype": "text/x-python",
   "name": "python",
   "nbconvert_exporter": "python",
   "pygments_lexer": "ipython3",
   "version": "3.9.12"
  }
 },
 "nbformat": 4,
 "nbformat_minor": 2
}
