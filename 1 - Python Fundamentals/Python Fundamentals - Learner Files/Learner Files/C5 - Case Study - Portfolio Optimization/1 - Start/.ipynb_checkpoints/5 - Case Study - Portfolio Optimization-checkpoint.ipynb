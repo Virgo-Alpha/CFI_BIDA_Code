{
 "cells": [
  {
   "cell_type": "markdown",
   "id": "2d9df0ff",
   "metadata": {
    "id": "2d9df0ff"
   },
   "source": [
    "# Case Study - Portfolio Optimization\n",
    "In this case study, we will build two $10,000 investment portfolios containing four stocks. The first portfolio will have an equal weighting between the stocks. The second portfolio will be optimized with a weighting allocation that provides the best return, adjusted for risk. To build these two portfolios, we will:\n",
    "1. Import two years of data for four stocks\n",
    "2. Build the initial portfolio with equal weighting to each of the stocks\n",
    "3. Analyze and visualize the equal-weighted portfolio\n",
    "4. Generate 10,000 portfolio scenarios with random weighting to each of the stocks\n",
    "5. Identify the optimal portfolio from the scenarios and visualize the results"
   ]
  },
  {
   "cell_type": "markdown",
   "id": "720791ef",
   "metadata": {
    "id": "720791ef"
   },
   "source": [
    "## Import Packages & Connect to Data"
   ]
  },
  {
   "cell_type": "code",
   "execution_count": 18,
   "id": "9187de70",
   "metadata": {
    "id": "9187de70"
   },
   "outputs": [],
   "source": [
    "# Import packages needed for case study\n",
    "import pandas as pd\n",
    "import numpy as np\n",
    "import pandas_datareader.data as pdr\n",
    "import matplotlib.pyplot as plt\n",
    "%matplotlib inline"
   ]
  },
  {
   "cell_type": "code",
   "execution_count": 19,
   "id": "5792b948",
   "metadata": {
    "id": "5792b948"
   },
   "outputs": [],
   "source": [
    "# Set start and end date parameters\n",
    "startdate = '2019-01-01'\n",
    "enddate = '2021-12-31'\n",
    "\n",
    "# List the four stock ticker symbols for our portfolio\n",
    "stock_list = ['AMD', 'AAPL', 'MSFT', 'ORCL']\n",
    "\n",
    "\n",
    "# Create an empty dictionary to store our stock info\n",
    "stocks = {}\n",
    "\n",
    "# Loop through each stock in the stock_list and return the Adj Close\n",
    "for i_stock in stock_list:\n",
    "    stocks[i_stock] = pdr.DataReader(i_stock, 'yahoo', startdate, enddate)[['Adj Close']]"
   ]
  },
  {
   "cell_type": "code",
   "execution_count": 20,
   "id": "f3619470",
   "metadata": {
    "id": "f3619470"
   },
   "outputs": [
    {
     "data": {
      "text/html": [
       "<div>\n",
       "<style scoped>\n",
       "    .dataframe tbody tr th:only-of-type {\n",
       "        vertical-align: middle;\n",
       "    }\n",
       "\n",
       "    .dataframe tbody tr th {\n",
       "        vertical-align: top;\n",
       "    }\n",
       "\n",
       "    .dataframe thead th {\n",
       "        text-align: right;\n",
       "    }\n",
       "</style>\n",
       "<table border=\"1\" class=\"dataframe\">\n",
       "  <thead>\n",
       "    <tr style=\"text-align: right;\">\n",
       "      <th></th>\n",
       "      <th>Adj Close</th>\n",
       "    </tr>\n",
       "    <tr>\n",
       "      <th>Date</th>\n",
       "      <th></th>\n",
       "    </tr>\n",
       "  </thead>\n",
       "  <tbody>\n",
       "    <tr>\n",
       "      <th>2019-01-02</th>\n",
       "      <td>18.830000</td>\n",
       "    </tr>\n",
       "    <tr>\n",
       "      <th>2019-01-03</th>\n",
       "      <td>17.049999</td>\n",
       "    </tr>\n",
       "    <tr>\n",
       "      <th>2019-01-04</th>\n",
       "      <td>19.000000</td>\n",
       "    </tr>\n",
       "    <tr>\n",
       "      <th>2019-01-07</th>\n",
       "      <td>20.570000</td>\n",
       "    </tr>\n",
       "    <tr>\n",
       "      <th>2019-01-08</th>\n",
       "      <td>20.750000</td>\n",
       "    </tr>\n",
       "  </tbody>\n",
       "</table>\n",
       "</div>"
      ],
      "text/plain": [
       "            Adj Close\n",
       "Date                 \n",
       "2019-01-02  18.830000\n",
       "2019-01-03  17.049999\n",
       "2019-01-04  19.000000\n",
       "2019-01-07  20.570000\n",
       "2019-01-08  20.750000"
      ]
     },
     "execution_count": 20,
     "metadata": {},
     "output_type": "execute_result"
    }
   ],
   "source": [
    "# Examine the 'AMD' Adj Close from the stocks dictionary\n",
    "stocks['AMD'].head()"
   ]
  },
  {
   "cell_type": "markdown",
   "id": "2733fc05",
   "metadata": {
    "id": "2733fc05"
   },
   "source": [
    "## Create the Equal-Weighted Portfolio\n",
    "To create the equal-weighted portfolio, we need to add some additional columns to the DataFrames in the `stocks` dictionary. The three columns that we will build are:\n",
    "* Normalized Return = Adjusted Close / Adjusted Close on the `startdate` of the portfolio\n",
    "* Allocation = Normalized Return * 0.25 (equal weighting for each of the four stocks)\n",
    "* Position Value = Allocation * 10,000 (value of the portfolio)"
   ]
  },
  {
   "cell_type": "code",
   "execution_count": 21,
   "id": "3f5388a1",
   "metadata": {
    "id": "3f5388a1"
   },
   "outputs": [],
   "source": [
    "# Create 'Normalized Return' column for each stock\n",
    "for stock_name, stock_data in stocks.items():\n",
    "    first_adj_close = stock_data.iloc[0]['Adj Close']\n",
    "    stock_data['Normalized Return'] = stock_data['Adj Close']/first_adj_close"
   ]
  },
  {
   "cell_type": "code",
   "execution_count": 22,
   "id": "a0ae4ce2",
   "metadata": {
    "id": "a0ae4ce2"
   },
   "outputs": [
    {
     "data": {
      "text/html": [
       "<div>\n",
       "<style scoped>\n",
       "    .dataframe tbody tr th:only-of-type {\n",
       "        vertical-align: middle;\n",
       "    }\n",
       "\n",
       "    .dataframe tbody tr th {\n",
       "        vertical-align: top;\n",
       "    }\n",
       "\n",
       "    .dataframe thead th {\n",
       "        text-align: right;\n",
       "    }\n",
       "</style>\n",
       "<table border=\"1\" class=\"dataframe\">\n",
       "  <thead>\n",
       "    <tr style=\"text-align: right;\">\n",
       "      <th></th>\n",
       "      <th>Adj Close</th>\n",
       "      <th>Normalized Return</th>\n",
       "    </tr>\n",
       "    <tr>\n",
       "      <th>Date</th>\n",
       "      <th></th>\n",
       "      <th></th>\n",
       "    </tr>\n",
       "  </thead>\n",
       "  <tbody>\n",
       "    <tr>\n",
       "      <th>2019-01-02</th>\n",
       "      <td>38.168343</td>\n",
       "      <td>1.000000</td>\n",
       "    </tr>\n",
       "    <tr>\n",
       "      <th>2019-01-03</th>\n",
       "      <td>34.366497</td>\n",
       "      <td>0.900393</td>\n",
       "    </tr>\n",
       "    <tr>\n",
       "      <th>2019-01-04</th>\n",
       "      <td>35.833584</td>\n",
       "      <td>0.938830</td>\n",
       "    </tr>\n",
       "    <tr>\n",
       "      <th>2019-01-07</th>\n",
       "      <td>35.753819</td>\n",
       "      <td>0.936740</td>\n",
       "    </tr>\n",
       "    <tr>\n",
       "      <th>2019-01-08</th>\n",
       "      <td>36.435402</td>\n",
       "      <td>0.954597</td>\n",
       "    </tr>\n",
       "  </tbody>\n",
       "</table>\n",
       "</div>"
      ],
      "text/plain": [
       "            Adj Close  Normalized Return\n",
       "Date                                    \n",
       "2019-01-02  38.168343           1.000000\n",
       "2019-01-03  34.366497           0.900393\n",
       "2019-01-04  35.833584           0.938830\n",
       "2019-01-07  35.753819           0.936740\n",
       "2019-01-08  36.435402           0.954597"
      ]
     },
     "execution_count": 22,
     "metadata": {},
     "output_type": "execute_result"
    }
   ],
   "source": [
    "stocks['AAPL'].head()"
   ]
  },
  {
   "cell_type": "code",
   "execution_count": 23,
   "id": "8a605d85",
   "metadata": {
    "id": "8a605d85"
   },
   "outputs": [],
   "source": [
    "# Create allocation for each stock - equally weighted in our initial portfolio\n",
    "# Create 'Normalized Return' column for each stock\n",
    "for stock_name, stock_data in stocks.items():\n",
    "    stock_data['Allocation'] = stock_data['Normalized Return']*0.25"
   ]
  },
  {
   "cell_type": "code",
   "execution_count": 24,
   "id": "c89341de",
   "metadata": {
    "id": "c89341de"
   },
   "outputs": [
    {
     "data": {
      "text/html": [
       "<div>\n",
       "<style scoped>\n",
       "    .dataframe tbody tr th:only-of-type {\n",
       "        vertical-align: middle;\n",
       "    }\n",
       "\n",
       "    .dataframe tbody tr th {\n",
       "        vertical-align: top;\n",
       "    }\n",
       "\n",
       "    .dataframe thead th {\n",
       "        text-align: right;\n",
       "    }\n",
       "</style>\n",
       "<table border=\"1\" class=\"dataframe\">\n",
       "  <thead>\n",
       "    <tr style=\"text-align: right;\">\n",
       "      <th></th>\n",
       "      <th>Adj Close</th>\n",
       "      <th>Normalized Return</th>\n",
       "      <th>Allocation</th>\n",
       "    </tr>\n",
       "    <tr>\n",
       "      <th>Date</th>\n",
       "      <th></th>\n",
       "      <th></th>\n",
       "      <th></th>\n",
       "    </tr>\n",
       "  </thead>\n",
       "  <tbody>\n",
       "    <tr>\n",
       "      <th>2019-01-02</th>\n",
       "      <td>97.147720</td>\n",
       "      <td>1.000000</td>\n",
       "      <td>0.250000</td>\n",
       "    </tr>\n",
       "    <tr>\n",
       "      <th>2019-01-03</th>\n",
       "      <td>93.573830</td>\n",
       "      <td>0.963212</td>\n",
       "      <td>0.240803</td>\n",
       "    </tr>\n",
       "    <tr>\n",
       "      <th>2019-01-04</th>\n",
       "      <td>97.925880</td>\n",
       "      <td>1.008010</td>\n",
       "      <td>0.252003</td>\n",
       "    </tr>\n",
       "    <tr>\n",
       "      <th>2019-01-07</th>\n",
       "      <td>98.050774</td>\n",
       "      <td>1.009296</td>\n",
       "      <td>0.252324</td>\n",
       "    </tr>\n",
       "    <tr>\n",
       "      <th>2019-01-08</th>\n",
       "      <td>98.761711</td>\n",
       "      <td>1.016614</td>\n",
       "      <td>0.254153</td>\n",
       "    </tr>\n",
       "  </tbody>\n",
       "</table>\n",
       "</div>"
      ],
      "text/plain": [
       "            Adj Close  Normalized Return  Allocation\n",
       "Date                                                \n",
       "2019-01-02  97.147720           1.000000    0.250000\n",
       "2019-01-03  93.573830           0.963212    0.240803\n",
       "2019-01-04  97.925880           1.008010    0.252003\n",
       "2019-01-07  98.050774           1.009296    0.252324\n",
       "2019-01-08  98.761711           1.016614    0.254153"
      ]
     },
     "execution_count": 24,
     "metadata": {},
     "output_type": "execute_result"
    }
   ],
   "source": [
    "stocks['MSFT'].head()"
   ]
  },
  {
   "cell_type": "code",
   "execution_count": 26,
   "id": "4ad751db",
   "metadata": {
    "id": "4ad751db"
   },
   "outputs": [],
   "source": [
    "# Set the value of the portfolio to $10k\n",
    "for stock_name, stock_data in stocks.items():\n",
    "    stock_data['Position Value'] = stock_data['Allocation']*10000"
   ]
  },
  {
   "cell_type": "code",
   "execution_count": 27,
   "id": "53c36f9d",
   "metadata": {
    "id": "53c36f9d"
   },
   "outputs": [
    {
     "data": {
      "text/html": [
       "<div>\n",
       "<style scoped>\n",
       "    .dataframe tbody tr th:only-of-type {\n",
       "        vertical-align: middle;\n",
       "    }\n",
       "\n",
       "    .dataframe tbody tr th {\n",
       "        vertical-align: top;\n",
       "    }\n",
       "\n",
       "    .dataframe thead th {\n",
       "        text-align: right;\n",
       "    }\n",
       "</style>\n",
       "<table border=\"1\" class=\"dataframe\">\n",
       "  <thead>\n",
       "    <tr style=\"text-align: right;\">\n",
       "      <th></th>\n",
       "      <th>Adj Close</th>\n",
       "      <th>Normalized Return</th>\n",
       "      <th>Allocation</th>\n",
       "      <th>Position Value</th>\n",
       "    </tr>\n",
       "    <tr>\n",
       "      <th>Date</th>\n",
       "      <th></th>\n",
       "      <th></th>\n",
       "      <th></th>\n",
       "      <th></th>\n",
       "    </tr>\n",
       "  </thead>\n",
       "  <tbody>\n",
       "    <tr>\n",
       "      <th>2019-01-02</th>\n",
       "      <td>42.513577</td>\n",
       "      <td>1.000000</td>\n",
       "      <td>0.250000</td>\n",
       "      <td>2500.000000</td>\n",
       "    </tr>\n",
       "    <tr>\n",
       "      <th>2019-01-03</th>\n",
       "      <td>42.099911</td>\n",
       "      <td>0.990270</td>\n",
       "      <td>0.247567</td>\n",
       "      <td>2475.674490</td>\n",
       "    </tr>\n",
       "    <tr>\n",
       "      <th>2019-01-04</th>\n",
       "      <td>43.914402</td>\n",
       "      <td>1.032950</td>\n",
       "      <td>0.258238</td>\n",
       "      <td>2582.375186</td>\n",
       "    </tr>\n",
       "    <tr>\n",
       "      <th>2019-01-07</th>\n",
       "      <td>44.610107</td>\n",
       "      <td>1.049314</td>\n",
       "      <td>0.262329</td>\n",
       "      <td>2623.285965</td>\n",
       "    </tr>\n",
       "    <tr>\n",
       "      <th>2019-01-08</th>\n",
       "      <td>45.014385</td>\n",
       "      <td>1.058824</td>\n",
       "      <td>0.264706</td>\n",
       "      <td>2647.059417</td>\n",
       "    </tr>\n",
       "  </tbody>\n",
       "</table>\n",
       "</div>"
      ],
      "text/plain": [
       "            Adj Close  Normalized Return  Allocation  Position Value\n",
       "Date                                                                \n",
       "2019-01-02  42.513577           1.000000    0.250000     2500.000000\n",
       "2019-01-03  42.099911           0.990270    0.247567     2475.674490\n",
       "2019-01-04  43.914402           1.032950    0.258238     2582.375186\n",
       "2019-01-07  44.610107           1.049314    0.262329     2623.285965\n",
       "2019-01-08  45.014385           1.058824    0.264706     2647.059417"
      ]
     },
     "execution_count": 27,
     "metadata": {},
     "output_type": "execute_result"
    }
   ],
   "source": [
    "stocks['ORCL'].head()"
   ]
  },
  {
   "cell_type": "markdown",
   "id": "26d042b6",
   "metadata": {
    "id": "26d042b6"
   },
   "source": [
    "## Visualize the Portfolio Performance\n",
    "To visualize the performance of the portfolio, we can create two line charts that show the return of the portfolio, and the return of the individual stocks, over time. Let's build a new DataFrame that contains just the `position value` for each stock, as well as the total value for the portfolio. We can use this DataFrame to create the two visuals."
   ]
  },
  {
   "cell_type": "code",
   "execution_count": 28,
   "id": "fc9cadf3",
   "metadata": {
    "id": "fc9cadf3"
   },
   "outputs": [],
   "source": [
    "# Create position_values dictionary\n",
    "position_values = {}\n",
    "\n",
    "for stock_name, stock_data in stocks.items():\n",
    "    position_values[stock_name] = stock_data['Position Value']"
   ]
  },
  {
   "cell_type": "code",
   "execution_count": 29,
   "id": "3a7ffce6",
   "metadata": {
    "id": "3a7ffce6"
   },
   "outputs": [
    {
     "data": {
      "text/html": [
       "<div>\n",
       "<style scoped>\n",
       "    .dataframe tbody tr th:only-of-type {\n",
       "        vertical-align: middle;\n",
       "    }\n",
       "\n",
       "    .dataframe tbody tr th {\n",
       "        vertical-align: top;\n",
       "    }\n",
       "\n",
       "    .dataframe thead th {\n",
       "        text-align: right;\n",
       "    }\n",
       "</style>\n",
       "<table border=\"1\" class=\"dataframe\">\n",
       "  <thead>\n",
       "    <tr style=\"text-align: right;\">\n",
       "      <th></th>\n",
       "      <th>AMD</th>\n",
       "      <th>AAPL</th>\n",
       "      <th>MSFT</th>\n",
       "      <th>ORCL</th>\n",
       "    </tr>\n",
       "    <tr>\n",
       "      <th>Date</th>\n",
       "      <th></th>\n",
       "      <th></th>\n",
       "      <th></th>\n",
       "      <th></th>\n",
       "    </tr>\n",
       "  </thead>\n",
       "  <tbody>\n",
       "    <tr>\n",
       "      <th>2019-01-02</th>\n",
       "      <td>2500.000000</td>\n",
       "      <td>2500.000000</td>\n",
       "      <td>2500.000000</td>\n",
       "      <td>2500.000000</td>\n",
       "    </tr>\n",
       "    <tr>\n",
       "      <th>2019-01-03</th>\n",
       "      <td>2263.674895</td>\n",
       "      <td>2250.981750</td>\n",
       "      <td>2408.029476</td>\n",
       "      <td>2475.674490</td>\n",
       "    </tr>\n",
       "    <tr>\n",
       "      <th>2019-01-04</th>\n",
       "      <td>2522.570377</td>\n",
       "      <td>2347.074919</td>\n",
       "      <td>2520.025176</td>\n",
       "      <td>2582.375186</td>\n",
       "    </tr>\n",
       "    <tr>\n",
       "      <th>2019-01-07</th>\n",
       "      <td>2731.014309</td>\n",
       "      <td>2341.850345</td>\n",
       "      <td>2523.239178</td>\n",
       "      <td>2623.285965</td>\n",
       "    </tr>\n",
       "    <tr>\n",
       "      <th>2019-01-08</th>\n",
       "      <td>2754.912385</td>\n",
       "      <td>2386.493586</td>\n",
       "      <td>2541.534448</td>\n",
       "      <td>2647.059417</td>\n",
       "    </tr>\n",
       "  </tbody>\n",
       "</table>\n",
       "</div>"
      ],
      "text/plain": [
       "                    AMD         AAPL         MSFT         ORCL\n",
       "Date                                                          \n",
       "2019-01-02  2500.000000  2500.000000  2500.000000  2500.000000\n",
       "2019-01-03  2263.674895  2250.981750  2408.029476  2475.674490\n",
       "2019-01-04  2522.570377  2347.074919  2520.025176  2582.375186\n",
       "2019-01-07  2731.014309  2341.850345  2523.239178  2623.285965\n",
       "2019-01-08  2754.912385  2386.493586  2541.534448  2647.059417"
      ]
     },
     "execution_count": 29,
     "metadata": {},
     "output_type": "execute_result"
    }
   ],
   "source": [
    "# Convert the position_values dictionary to a DataFrame\n",
    "position_values = pd.DataFrame(data=position_values)\n",
    "\n",
    "position_values.head()"
   ]
  },
  {
   "cell_type": "code",
   "execution_count": 30,
   "id": "c778dba8",
   "metadata": {
    "id": "c778dba8"
   },
   "outputs": [],
   "source": [
    "# Add 'Total' column to position values, summing the other columns\n",
    "position_values['Total'] = position_values.sum(axis=1)"
   ]
  },
  {
   "cell_type": "code",
   "execution_count": 31,
   "id": "9b2d20f8",
   "metadata": {
    "id": "9b2d20f8"
   },
   "outputs": [
    {
     "data": {
      "text/html": [
       "<div>\n",
       "<style scoped>\n",
       "    .dataframe tbody tr th:only-of-type {\n",
       "        vertical-align: middle;\n",
       "    }\n",
       "\n",
       "    .dataframe tbody tr th {\n",
       "        vertical-align: top;\n",
       "    }\n",
       "\n",
       "    .dataframe thead th {\n",
       "        text-align: right;\n",
       "    }\n",
       "</style>\n",
       "<table border=\"1\" class=\"dataframe\">\n",
       "  <thead>\n",
       "    <tr style=\"text-align: right;\">\n",
       "      <th></th>\n",
       "      <th>AMD</th>\n",
       "      <th>AAPL</th>\n",
       "      <th>MSFT</th>\n",
       "      <th>ORCL</th>\n",
       "      <th>Total</th>\n",
       "    </tr>\n",
       "    <tr>\n",
       "      <th>Date</th>\n",
       "      <th></th>\n",
       "      <th></th>\n",
       "      <th></th>\n",
       "      <th></th>\n",
       "      <th></th>\n",
       "    </tr>\n",
       "  </thead>\n",
       "  <tbody>\n",
       "    <tr>\n",
       "      <th>2019-01-02</th>\n",
       "      <td>2500.000000</td>\n",
       "      <td>2500.000000</td>\n",
       "      <td>2500.000000</td>\n",
       "      <td>2500.000000</td>\n",
       "      <td>10000.000000</td>\n",
       "    </tr>\n",
       "    <tr>\n",
       "      <th>2019-01-03</th>\n",
       "      <td>2263.674895</td>\n",
       "      <td>2250.981750</td>\n",
       "      <td>2408.029476</td>\n",
       "      <td>2475.674490</td>\n",
       "      <td>9398.360611</td>\n",
       "    </tr>\n",
       "    <tr>\n",
       "      <th>2019-01-04</th>\n",
       "      <td>2522.570377</td>\n",
       "      <td>2347.074919</td>\n",
       "      <td>2520.025176</td>\n",
       "      <td>2582.375186</td>\n",
       "      <td>9972.045657</td>\n",
       "    </tr>\n",
       "    <tr>\n",
       "      <th>2019-01-07</th>\n",
       "      <td>2731.014309</td>\n",
       "      <td>2341.850345</td>\n",
       "      <td>2523.239178</td>\n",
       "      <td>2623.285965</td>\n",
       "      <td>10219.389798</td>\n",
       "    </tr>\n",
       "    <tr>\n",
       "      <th>2019-01-08</th>\n",
       "      <td>2754.912385</td>\n",
       "      <td>2386.493586</td>\n",
       "      <td>2541.534448</td>\n",
       "      <td>2647.059417</td>\n",
       "      <td>10329.999837</td>\n",
       "    </tr>\n",
       "  </tbody>\n",
       "</table>\n",
       "</div>"
      ],
      "text/plain": [
       "                    AMD         AAPL         MSFT         ORCL         Total\n",
       "Date                                                                        \n",
       "2019-01-02  2500.000000  2500.000000  2500.000000  2500.000000  10000.000000\n",
       "2019-01-03  2263.674895  2250.981750  2408.029476  2475.674490   9398.360611\n",
       "2019-01-04  2522.570377  2347.074919  2520.025176  2582.375186   9972.045657\n",
       "2019-01-07  2731.014309  2341.850345  2523.239178  2623.285965  10219.389798\n",
       "2019-01-08  2754.912385  2386.493586  2541.534448  2647.059417  10329.999837"
      ]
     },
     "execution_count": 31,
     "metadata": {},
     "output_type": "execute_result"
    }
   ],
   "source": [
    "position_values.head()"
   ]
  },
  {
   "cell_type": "code",
   "execution_count": 32,
   "id": "dbee56dd",
   "metadata": {
    "id": "dbee56dd"
   },
   "outputs": [
    {
     "data": {
      "image/png": "[encoded data removed]",
      "text/plain": [
       "<Figure size 864x576 with 1 Axes>"
      ]
     },
     "metadata": {
      "needs_background": "light"
     },
     "output_type": "display_data"
    }
   ],
   "source": [
    "# View the total portfolio\n",
    "plt.figure(figsize=(12, 8))\n",
    "\n",
    "plt.plot(position_values['Total'])\n",
    "plt.title('Equal-Weighted Portfolio performance')\n",
    "plt.ylabel('Total Value');"
   ]
  },
  {
   "cell_type": "code",
   "execution_count": 33,
   "id": "8a4c4f02",
   "metadata": {
    "id": "8a4c4f02"
   },
   "outputs": [
    {
     "data": {
      "image/png": "[encoded data removed]",
      "text/plain": [
       "<Figure size 864x576 with 1 Axes>"
      ]
     },
     "metadata": {
      "needs_background": "light"
     },
     "output_type": "display_data"
    }
   ],
   "source": [
    "# View the four stocks in the portfolio\n",
    "plt.figure(figsize=(12, 8))\n",
    "\n",
    "plt.plot(position_values.iloc[:, 0:4])\n",
    "plt.title('Equal-Weighted Portfolio Stock performance')\n",
    "plt.ylabel('Total Value');"
   ]
  },
  {
   "cell_type": "markdown",
   "id": "e79bf233",
   "metadata": {
    "id": "e79bf233"
   },
   "source": [
    "## Calculate Performance Metrics for the Portfolio\n",
    "Now that we have created and visualized the equal-weighted portfolio, we can calculate a few metrics to further measure the performance of the portfolio. We will create five performances metrics:\n",
    " * Cumulative Return\n",
    " * Mean Daily Return\n",
    " * Standard Deviation Daily Return\n",
    " * Sharpe Ratio\n",
    " * Annualized Sharpe Ratio"
   ]
  },
  {
   "cell_type": "code",
   "execution_count": 34,
   "id": "1005b5e3",
   "metadata": {
    "id": "1005b5e3"
   },
   "outputs": [
    {
     "name": "stdout",
     "output_type": "stream",
     "text": [
      "3.4353423280879145\n"
     ]
    }
   ],
   "source": [
    "# Define the end and start value of the portfolio\n",
    "end_value = position_values['Total'][-1]\n",
    "start_value = position_values['Total'][0]\n",
    "\n",
    "# Calculate the cumulative portfolio return as a percentage\n",
    "cumulative_return = end_value/start_value - 1\n",
    "\n",
    "print(cumulative_return)"
   ]
  },
  {
   "cell_type": "code",
   "execution_count": 35,
   "id": "aafd2d14",
   "metadata": {
    "id": "aafd2d14"
   },
   "outputs": [
    {
     "data": {
      "text/html": [
       "<div>\n",
       "<style scoped>\n",
       "    .dataframe tbody tr th:only-of-type {\n",
       "        vertical-align: middle;\n",
       "    }\n",
       "\n",
       "    .dataframe tbody tr th {\n",
       "        vertical-align: top;\n",
       "    }\n",
       "\n",
       "    .dataframe thead th {\n",
       "        text-align: right;\n",
       "    }\n",
       "</style>\n",
       "<table border=\"1\" class=\"dataframe\">\n",
       "  <thead>\n",
       "    <tr style=\"text-align: right;\">\n",
       "      <th></th>\n",
       "      <th>AMD</th>\n",
       "      <th>AAPL</th>\n",
       "      <th>MSFT</th>\n",
       "      <th>ORCL</th>\n",
       "      <th>Total</th>\n",
       "      <th>Daily Returns</th>\n",
       "    </tr>\n",
       "    <tr>\n",
       "      <th>Date</th>\n",
       "      <th></th>\n",
       "      <th></th>\n",
       "      <th></th>\n",
       "      <th></th>\n",
       "      <th></th>\n",
       "      <th></th>\n",
       "    </tr>\n",
       "  </thead>\n",
       "  <tbody>\n",
       "    <tr>\n",
       "      <th>2019-01-02</th>\n",
       "      <td>2500.000000</td>\n",
       "      <td>2500.000000</td>\n",
       "      <td>2500.000000</td>\n",
       "      <td>2500.000000</td>\n",
       "      <td>10000.000000</td>\n",
       "      <td>NaN</td>\n",
       "    </tr>\n",
       "    <tr>\n",
       "      <th>2019-01-03</th>\n",
       "      <td>2263.674895</td>\n",
       "      <td>2250.981750</td>\n",
       "      <td>2408.029476</td>\n",
       "      <td>2475.674490</td>\n",
       "      <td>9398.360611</td>\n",
       "      <td>-0.060164</td>\n",
       "    </tr>\n",
       "    <tr>\n",
       "      <th>2019-01-04</th>\n",
       "      <td>2522.570377</td>\n",
       "      <td>2347.074919</td>\n",
       "      <td>2520.025176</td>\n",
       "      <td>2582.375186</td>\n",
       "      <td>9972.045657</td>\n",
       "      <td>0.061041</td>\n",
       "    </tr>\n",
       "    <tr>\n",
       "      <th>2019-01-07</th>\n",
       "      <td>2731.014309</td>\n",
       "      <td>2341.850345</td>\n",
       "      <td>2523.239178</td>\n",
       "      <td>2623.285965</td>\n",
       "      <td>10219.389798</td>\n",
       "      <td>0.024804</td>\n",
       "    </tr>\n",
       "    <tr>\n",
       "      <th>2019-01-08</th>\n",
       "      <td>2754.912385</td>\n",
       "      <td>2386.493586</td>\n",
       "      <td>2541.534448</td>\n",
       "      <td>2647.059417</td>\n",
       "      <td>10329.999837</td>\n",
       "      <td>0.010824</td>\n",
       "    </tr>\n",
       "  </tbody>\n",
       "</table>\n",
       "</div>"
      ],
      "text/plain": [
       "                    AMD         AAPL         MSFT         ORCL         Total  \\\n",
       "Date                                                                           \n",
       "2019-01-02  2500.000000  2500.000000  2500.000000  2500.000000  10000.000000   \n",
       "2019-01-03  2263.674895  2250.981750  2408.029476  2475.674490   9398.360611   \n",
       "2019-01-04  2522.570377  2347.074919  2520.025176  2582.375186   9972.045657   \n",
       "2019-01-07  2731.014309  2341.850345  2523.239178  2623.285965  10219.389798   \n",
       "2019-01-08  2754.912385  2386.493586  2541.534448  2647.059417  10329.999837   \n",
       "\n",
       "            Daily Returns  \n",
       "Date                       \n",
       "2019-01-02            NaN  \n",
       "2019-01-03      -0.060164  \n",
       "2019-01-04       0.061041  \n",
       "2019-01-07       0.024804  \n",
       "2019-01-08       0.010824  "
      ]
     },
     "execution_count": 35,
     "metadata": {},
     "output_type": "execute_result"
    }
   ],
   "source": [
    "# Create a 'Daily Returns' column\n",
    "position_values['Daily Returns'] = position_values['Total'].pct_change()\n",
    "\n",
    "position_values.head()"
   ]
  },
  {
   "cell_type": "code",
   "execution_count": 36,
   "id": "5879e065",
   "metadata": {
    "id": "5879e065"
   },
   "outputs": [
    {
     "name": "stdout",
     "output_type": "stream",
     "text": [
      "The mean daily return is: 0.0022\n"
     ]
    }
   ],
   "source": [
    "# Calculate the mean Daily Return \n",
    "mean_daily_return = position_values['Daily Returns'].mean()\n",
    "\n",
    "print('The mean daily return is:', str(round(mean_daily_return, 4)))"
   ]
  },
  {
   "cell_type": "code",
   "execution_count": 37,
   "id": "1138fc75",
   "metadata": {
    "id": "1138fc75"
   },
   "outputs": [
    {
     "name": "stdout",
     "output_type": "stream",
     "text": [
      "The std daily return is: 0.0207\n"
     ]
    }
   ],
   "source": [
    "# Calculate the standard deviation of Daily Return \n",
    "std_daily_return = position_values['Daily Returns'].std()\n",
    "\n",
    "print('The std daily return is:', str(round(std_daily_return, 4)))"
   ]
  },
  {
   "cell_type": "markdown",
   "id": "f5ac9439",
   "metadata": {
    "id": "f5ac9439"
   },
   "source": [
    "### Sharpe Ratio\n",
    "Now, let's explore a risk-adjusted return metric called the sharpe ratio. The sharpe ratio helps us to quantify how much return we are getting for a given level of risk. When comparing two different investments, the asset with the higher sharpe ratio provides a higher return for the same amount of risk or the same return for a lower amount of risk. \n",
    "\n",
    "It is calculated by taking the average return of the portfolio, minus a risk free rate (such as government bonds), divided by the standard deviation of the return. In this case, we assume the risk-free rate is close 0 so we won't add it to the formula."
   ]
  },
  {
   "cell_type": "code",
   "execution_count": 38,
   "id": "3693e3dd",
   "metadata": {
    "id": "3693e3dd"
   },
   "outputs": [
    {
     "data": {
      "text/plain": [
       "0.10575282160269797"
      ]
     },
     "execution_count": 38,
     "metadata": {},
     "output_type": "execute_result"
    }
   ],
   "source": [
    "# Calculate the sharpe ratio\n",
    "sharpe_ratio = mean_daily_return / std_daily_return\n",
    "\n",
    "sharpe_ratio"
   ]
  },
  {
   "cell_type": "code",
   "execution_count": 39,
   "id": "ae5bb80b",
   "metadata": {
    "id": "ae5bb80b"
   },
   "outputs": [
    {
     "data": {
      "text/plain": [
       "1.6787739984247076"
      ]
     },
     "execution_count": 39,
     "metadata": {},
     "output_type": "execute_result"
    }
   ],
   "source": [
    "# Calculate the annualized sharpe ratio\n",
    "sharpe_ratio_annualized = sharpe_ratio * 252 ** 0.5\n",
    "\n",
    "sharpe_ratio_annualized"
   ]
  },
  {
   "cell_type": "markdown",
   "id": "de803160",
   "metadata": {
    "id": "de803160"
   },
   "source": [
    "## Prepare Scenarios to Optimize Portfolio Weighting\n",
    "We need to prepare our data ahead of generating our scenarios to optimize the portfolio weighting. We will:\n",
    " * Create a dictionary containing the adjusted close for each of our stocks: stock_adj_close\n",
    " * Create another dictionary that transforms the adjusted close for each day to a percent change from the previous day"
   ]
  },
  {
   "cell_type": "code",
   "execution_count": 40,
   "id": "434b0dcd",
   "metadata": {
    "id": "434b0dcd"
   },
   "outputs": [],
   "source": [
    "# Create stock_adj_close dictionary\n",
    "stock_adj_close = {}\n",
    "\n",
    "for stock_name, sock_data in stocks.items():\n",
    "    stock_adj_close[stock_name] = stock_data['Adj Close']"
   ]
  },
  {
   "cell_type": "code",
   "execution_count": 41,
   "id": "0ffa9762",
   "metadata": {
    "id": "0ffa9762"
   },
   "outputs": [
    {
     "data": {
      "text/html": [
       "<div>\n",
       "<style scoped>\n",
       "    .dataframe tbody tr th:only-of-type {\n",
       "        vertical-align: middle;\n",
       "    }\n",
       "\n",
       "    .dataframe tbody tr th {\n",
       "        vertical-align: top;\n",
       "    }\n",
       "\n",
       "    .dataframe thead th {\n",
       "        text-align: right;\n",
       "    }\n",
       "</style>\n",
       "<table border=\"1\" class=\"dataframe\">\n",
       "  <thead>\n",
       "    <tr style=\"text-align: right;\">\n",
       "      <th></th>\n",
       "      <th>AMD</th>\n",
       "      <th>AAPL</th>\n",
       "      <th>MSFT</th>\n",
       "      <th>ORCL</th>\n",
       "    </tr>\n",
       "    <tr>\n",
       "      <th>Date</th>\n",
       "      <th></th>\n",
       "      <th></th>\n",
       "      <th></th>\n",
       "      <th></th>\n",
       "    </tr>\n",
       "  </thead>\n",
       "  <tbody>\n",
       "    <tr>\n",
       "      <th>2019-01-02</th>\n",
       "      <td>42.513577</td>\n",
       "      <td>42.513577</td>\n",
       "      <td>42.513577</td>\n",
       "      <td>42.513577</td>\n",
       "    </tr>\n",
       "    <tr>\n",
       "      <th>2019-01-03</th>\n",
       "      <td>42.099911</td>\n",
       "      <td>42.099911</td>\n",
       "      <td>42.099911</td>\n",
       "      <td>42.099911</td>\n",
       "    </tr>\n",
       "    <tr>\n",
       "      <th>2019-01-04</th>\n",
       "      <td>43.914402</td>\n",
       "      <td>43.914402</td>\n",
       "      <td>43.914402</td>\n",
       "      <td>43.914402</td>\n",
       "    </tr>\n",
       "    <tr>\n",
       "      <th>2019-01-07</th>\n",
       "      <td>44.610107</td>\n",
       "      <td>44.610107</td>\n",
       "      <td>44.610107</td>\n",
       "      <td>44.610107</td>\n",
       "    </tr>\n",
       "    <tr>\n",
       "      <th>2019-01-08</th>\n",
       "      <td>45.014385</td>\n",
       "      <td>45.014385</td>\n",
       "      <td>45.014385</td>\n",
       "      <td>45.014385</td>\n",
       "    </tr>\n",
       "  </tbody>\n",
       "</table>\n",
       "</div>"
      ],
      "text/plain": [
       "                  AMD       AAPL       MSFT       ORCL\n",
       "Date                                                  \n",
       "2019-01-02  42.513577  42.513577  42.513577  42.513577\n",
       "2019-01-03  42.099911  42.099911  42.099911  42.099911\n",
       "2019-01-04  43.914402  43.914402  43.914402  43.914402\n",
       "2019-01-07  44.610107  44.610107  44.610107  44.610107\n",
       "2019-01-08  45.014385  45.014385  45.014385  45.014385"
      ]
     },
     "execution_count": 41,
     "metadata": {},
     "output_type": "execute_result"
    }
   ],
   "source": [
    "stock_adj_close = pd.DataFrame(data=stock_adj_close)\n",
    "\n",
    "stock_adj_close.head()"
   ]
  },
  {
   "cell_type": "code",
   "execution_count": 42,
   "id": "95bf6803",
   "metadata": {
    "id": "95bf6803"
   },
   "outputs": [
    {
     "data": {
      "text/html": [
       "<div>\n",
       "<style scoped>\n",
       "    .dataframe tbody tr th:only-of-type {\n",
       "        vertical-align: middle;\n",
       "    }\n",
       "\n",
       "    .dataframe tbody tr th {\n",
       "        vertical-align: top;\n",
       "    }\n",
       "\n",
       "    .dataframe thead th {\n",
       "        text-align: right;\n",
       "    }\n",
       "</style>\n",
       "<table border=\"1\" class=\"dataframe\">\n",
       "  <thead>\n",
       "    <tr style=\"text-align: right;\">\n",
       "      <th></th>\n",
       "      <th>AMD</th>\n",
       "      <th>AAPL</th>\n",
       "      <th>MSFT</th>\n",
       "      <th>ORCL</th>\n",
       "    </tr>\n",
       "    <tr>\n",
       "      <th>Date</th>\n",
       "      <th></th>\n",
       "      <th></th>\n",
       "      <th></th>\n",
       "      <th></th>\n",
       "    </tr>\n",
       "  </thead>\n",
       "  <tbody>\n",
       "    <tr>\n",
       "      <th>2019-01-02</th>\n",
       "      <td>NaN</td>\n",
       "      <td>NaN</td>\n",
       "      <td>NaN</td>\n",
       "      <td>NaN</td>\n",
       "    </tr>\n",
       "    <tr>\n",
       "      <th>2019-01-03</th>\n",
       "      <td>-0.009730</td>\n",
       "      <td>-0.009730</td>\n",
       "      <td>-0.009730</td>\n",
       "      <td>-0.009730</td>\n",
       "    </tr>\n",
       "    <tr>\n",
       "      <th>2019-01-04</th>\n",
       "      <td>0.043100</td>\n",
       "      <td>0.043100</td>\n",
       "      <td>0.043100</td>\n",
       "      <td>0.043100</td>\n",
       "    </tr>\n",
       "    <tr>\n",
       "      <th>2019-01-07</th>\n",
       "      <td>0.015842</td>\n",
       "      <td>0.015842</td>\n",
       "      <td>0.015842</td>\n",
       "      <td>0.015842</td>\n",
       "    </tr>\n",
       "    <tr>\n",
       "      <th>2019-01-08</th>\n",
       "      <td>0.009062</td>\n",
       "      <td>0.009062</td>\n",
       "      <td>0.009062</td>\n",
       "      <td>0.009062</td>\n",
       "    </tr>\n",
       "  </tbody>\n",
       "</table>\n",
       "</div>"
      ],
      "text/plain": [
       "                 AMD      AAPL      MSFT      ORCL\n",
       "Date                                              \n",
       "2019-01-02       NaN       NaN       NaN       NaN\n",
       "2019-01-03 -0.009730 -0.009730 -0.009730 -0.009730\n",
       "2019-01-04  0.043100  0.043100  0.043100  0.043100\n",
       "2019-01-07  0.015842  0.015842  0.015842  0.015842\n",
       "2019-01-08  0.009062  0.009062  0.009062  0.009062"
      ]
     },
     "execution_count": 42,
     "metadata": {},
     "output_type": "execute_result"
    }
   ],
   "source": [
    "# Create stock_returns DataFrames to see the day over day change in stock value\n",
    "stock_returns = stock_adj_close.pct_change()\n",
    "\n",
    "stock_returns.head()"
   ]
  },
  {
   "cell_type": "markdown",
   "id": "ce3c7f1a",
   "metadata": {
    "id": "ce3c7f1a"
   },
   "source": [
    "## Build & Run 10,000 Portfolio Scenarios\n",
    "Now that we've prepared our data, we're almost ready to run our scenarios. First, we need to build the structures required to generate these scenarios and store the output. To do this, we will use the `numpy.zeros()` function. \n",
    "\n",
    "This function creates arrays that are filled with zeros. After we run the scenarios, we replace these zeros with the corresponding output. The reason we create the arrays with zeros first is to give our arrays the correct shape before we replace them with the correct values.\n",
    "\n",
    "We will create four different arrays:\n",
    " * weights_array - this array will have 10,000 rows and 4 columns and hold the weighting allocation for each stock\n",
    " * returns_array - this array will contain the portfolio return for each scenario\n",
    " * volatility_array - this array will contain the portfolio volatility for each scenario\n",
    " * sharpe_array - this array will contain the sharpe ratio for each scenario"
   ]
  },
  {
   "cell_type": "code",
   "execution_count": 43,
   "id": "26aae2af",
   "metadata": {
    "id": "26aae2af"
   },
   "outputs": [
    {
     "data": {
      "text/plain": [
       "array([[0., 0., 0., 0.],\n",
       "       [0., 0., 0., 0.],\n",
       "       [0., 0., 0., 0.],\n",
       "       ...,\n",
       "       [0., 0., 0., 0.],\n",
       "       [0., 0., 0., 0.],\n",
       "       [0., 0., 0., 0.]])"
      ]
     },
     "execution_count": 43,
     "metadata": {},
     "output_type": "execute_result"
    }
   ],
   "source": [
    "# Define the number of scenarios and create a blank array to populate stock weightings for each scenario\n",
    "scenarios = 10000\n",
    "\n",
    "weights_array = np.zeros((scenarios, len(stock_returns.columns)))\n",
    "\n",
    "weights_array"
   ]
  },
  {
   "cell_type": "code",
   "execution_count": 44,
   "id": "5245589e",
   "metadata": {
    "id": "5245589e"
   },
   "outputs": [],
   "source": [
    "# Create additional blank arrays for scenario output\n",
    "returns_array = np.zeros(scenarios)\n",
    "volatility_array = np.zeros(scenarios)\n",
    "sharpe_array = np.zeros(scenarios)"
   ]
  },
  {
   "cell_type": "code",
   "execution_count": 53,
   "id": "1815480a",
   "metadata": {
    "id": "1815480a"
   },
   "outputs": [],
   "source": [
    "import random\n",
    "random.seed(3)\n",
    "np.random.seed(3)\n",
    "\n",
    "for index in range(scenarios): \n",
    "    # Generate four random numbers for each index\n",
    "    numbers = np.array(np.random.random(4))\n",
    "    \n",
    "    # Divide each number by the sum of the numbers to generate the random weight\n",
    "    weights = numbers / np.sum(numbers)\n",
    "    \n",
    "    # Save the weights in weights_array\n",
    "    weights_array[index,:] = weights\n",
    "    \n",
    "    # Calculate the return for each scenario\n",
    "    returns_array[index] = np.sum(stock_returns.mean()*252*weights)\n",
    "    \n",
    "    # Calculate the expected volatility for each scenario\n",
    "    volatility_array[index] = np.sqrt(np.dot(weights.T,np.dot(stock_returns.cov()*252, weights)))\n",
    "\n",
    "    # Calculate the Sharpe Ratio for each scenario \n",
    "    sharpe_array[index] = returns_array[index] / volatility_array[index]"
   ]
  },
  {
   "cell_type": "code",
   "execution_count": 54,
   "id": "119d847f",
   "metadata": {
    "id": "119d847f"
   },
   "outputs": [
    {
     "name": "stdout",
     "output_type": "stream",
     "text": [
      "The first combination: [0.26728964 0.34364796 0.14116943 0.24789297]\n"
     ]
    }
   ],
   "source": [
    "print(\"The first combination:\", weights_array[0])"
   ]
  },
  {
   "cell_type": "code",
   "execution_count": 55,
   "id": "ccd573c2",
   "metadata": {
    "id": "ccd573c2"
   },
   "outputs": [
    {
     "name": "stdout",
     "output_type": "stream",
     "text": [
      "The sharpe ratio of the first portfolio: 0.9101283141292361\n"
     ]
    }
   ],
   "source": [
    "print(\"The sharpe ratio of the first portfolio:\", sharpe_array[0])"
   ]
  },
  {
   "cell_type": "markdown",
   "id": "47e6455a",
   "metadata": {
    "id": "47e6455a"
   },
   "source": [
    "## Identify the Optimal Portfolio\n",
    "Now that we have the output for all 10,000 scenarios, we can identify the optimal portfolio. The optimal portfolio in this case study is the portfolio that has the highest sharpe ratio."
   ]
  },
  {
   "cell_type": "code",
   "execution_count": 56,
   "id": "54a088bd",
   "metadata": {
    "id": "54a088bd"
   },
   "outputs": [
    {
     "data": {
      "text/plain": [
       "0.9101283141292364"
      ]
     },
     "execution_count": 56,
     "metadata": {},
     "output_type": "execute_result"
    }
   ],
   "source": [
    "# Find the highest sharpe ratio in sharpe_array\n",
    "sharpe_array.max()"
   ]
  },
  {
   "cell_type": "code",
   "execution_count": 57,
   "id": "f5d73de5",
   "metadata": {
    "id": "f5d73de5"
   },
   "outputs": [
    {
     "data": {
      "text/plain": [
       "1163"
      ]
     },
     "execution_count": 57,
     "metadata": {},
     "output_type": "execute_result"
    }
   ],
   "source": [
    "# Find the index of the optimal portfolio\n",
    "index_max_sharpe = sharpe_array.argmax()\n",
    "index_max_sharpe"
   ]
  },
  {
   "cell_type": "code",
   "execution_count": 58,
   "id": "0cb85e68",
   "metadata": {
    "id": "0cb85e68"
   },
   "outputs": [
    {
     "name": "stdout",
     "output_type": "stream",
     "text": [
      "['AMD', 'AAPL', 'MSFT', 'ORCL']\n",
      "[0.30771409 0.38674589 0.2577747  0.04776532]\n"
     ]
    }
   ],
   "source": [
    "# Print the optimal weights for each stock\n",
    "print(stock_list)\n",
    "print(weights_array[index_max_sharpe,:])"
   ]
  },
  {
   "cell_type": "markdown",
   "id": "a26b16aa",
   "metadata": {
    "id": "a26b16aa"
   },
   "source": [
    "## Visualize the Optimal Portfolio & Portfolio Scenarios\n",
    "Let's visualize our portfolio scenarios by using a scatter chart. We can use the volatility and returns arrays on each axis to see the relationship between risk and reward. As a final step, we can visualize where the optimal portfolio appears among all of the scenarios."
   ]
  },
  {
   "cell_type": "code",
   "execution_count": 62,
   "id": "d02af92e",
   "metadata": {
    "id": "d02af92e"
   },
   "outputs": [
    {
     "data": {
      "image/png": "[encoded data removed]",
      "text/plain": [
       "<Figure size 864x576 with 2 Axes>"
      ]
     },
     "metadata": {
      "needs_background": "light"
     },
     "output_type": "display_data"
    }
   ],
   "source": [
    "# Visualize volatility vs returns for each scenario\n",
    "plt.figure(figsize=(12,8))\n",
    "\n",
    "plt.scatter(volatility_array, returns_array, c=sharpe_array, cmap='viridis')\n",
    "\n",
    "plt.colorbar(label='Sharpe Ratio')\n",
    "plt.xlabel('Volatility')\n",
    "plt.ylabel('Return');"
   ]
  },
  {
   "cell_type": "code",
   "execution_count": 63,
   "id": "401ebb80",
   "metadata": {
    "id": "401ebb80"
   },
   "outputs": [
    {
     "data": {
      "image/png": "[encoded data removed]",
      "text/plain": [
       "<Figure size 864x576 with 2 Axes>"
      ]
     },
     "metadata": {
      "needs_background": "light"
     },
     "output_type": "display_data"
    }
   ],
   "source": [
    "# Identify the optimal portfolio in the returns and volatility arrays\n",
    "max_sharpe_return = returns_array[index_max_sharpe]\n",
    "max_sharpe_volatility = volatility_array[index_max_sharpe]\n",
    "\n",
    "# Visualize volatility vs returns for each scenario\n",
    "plt.figure(figsize=(12,8))\n",
    "\n",
    "plt.scatter(volatility_array, returns_array, c=sharpe_array, cmap='viridis')\n",
    "\n",
    "plt.colorbar(label='Sharpe Ratio')\n",
    "plt.xlabel('Volatility')\n",
    "plt.ylabel('Return')\n",
    "\n",
    "# Add the optimal portfolio to the visual\n",
    "plt.scatter(max_sharpe_volatility, max_sharpe_return, c='orange', edgecolors='black');"
   ]
  },
  {
   "cell_type": "code",
   "execution_count": null,
   "id": "98098f33",
   "metadata": {},
   "outputs": [],
   "source": []
  },
  {
   "cell_type": "code",
   "execution_count": null,
   "id": "e3fe7e37",
   "metadata": {},
   "outputs": [],
   "source": []
  }
 ],
 "metadata": {
  "colab": {
   "collapsed_sections": [
    "e79bf233",
    "f5ac9439",
    "de803160",
    "ce3c7f1a",
    "47e6455a",
    "a26b16aa"
   ],
   "name": "5 - Case Study - Portfolio Optimization.ipynb",
   "provenance": []
  },
  "kernelspec": {
   "display_name": "Python 3 (ipykernel)",
   "language": "python",
   "name": "python3"
  },
  "language_info": {
   "codemirror_mode": {
    "name": "ipython",
    "version": 3
   },
   "file_extension": ".py",
   "mimetype": "text/x-python",
   "name": "python",
   "nbconvert_exporter": "python",
   "pygments_lexer": "ipython3",
   "version": "3.8.10"
  }
 },
 "nbformat": 4,
 "nbformat_minor": 5
}
